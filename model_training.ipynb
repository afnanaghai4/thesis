{
 "cells": [
  {
   "cell_type": "code",
   "execution_count": 1,
   "id": "369b307b",
   "metadata": {},
   "outputs": [],
   "source": [
    "#data related imports\n",
    "import pandas as pd\n",
    "import numpy as np\n",
    "from sklearn.model_selection import train_test_split\n",
    "from sklearn.preprocessing import StandardScaler,LabelEncoder,MinMaxScaler\n",
    "\n",
    "from huggingface_hub import login,HfApi, upload_file\n",
    "\n",
    "\n",
    "# classification model imports\n",
    "from xgboost import XGBClassifier\n",
    "from sklearn.metrics import classification_report, accuracy_score\n",
    "\n",
    "# deep learning model imports\n",
    "from keras.callbacks import EarlyStopping\n",
    "\n",
    "import torch\n",
    "import torch.optim as optim\n",
    "from torch.utils.data import TensorDataset, DataLoader\n",
    "import os\n",
    "\n",
    "\n",
    "\n",
    "import time\n",
    "\n"
   ]
  },
  {
   "cell_type": "code",
   "execution_count": null,
   "id": "1f849c66",
   "metadata": {},
   "outputs": [],
   "source": [
    "df = pd.read_csv('E:/masters material/thesis/datasets/Edge-IIoTset dataset/Selected dataset for ML and DL/ML-EdgeIIoT-dataset.csv', low_memory=False)"
   ]
  },
  {
   "cell_type": "code",
   "execution_count": null,
   "id": "a0604a24",
   "metadata": {},
   "outputs": [],
   "source": [
    "print(df['Attack_type'].value_counts())"
   ]
  },
  {
   "cell_type": "code",
   "execution_count": null,
   "id": "6365bd79",
   "metadata": {},
   "outputs": [],
   "source": [
    "print(df.columns)"
   ]
  },
  {
   "cell_type": "code",
   "execution_count": null,
   "id": "c9ad1f5c",
   "metadata": {},
   "outputs": [],
   "source": [
    "df.info()"
   ]
  },
  {
   "cell_type": "code",
   "execution_count": null,
   "id": "44edad89",
   "metadata": {},
   "outputs": [],
   "source": [
    "df.describe()"
   ]
  },
  {
   "cell_type": "code",
   "execution_count": null,
   "id": "d69b27c0",
   "metadata": {},
   "outputs": [],
   "source": [
    "df.head()"
   ]
  },
  {
   "cell_type": "code",
   "execution_count": null,
   "id": "ef464e3f",
   "metadata": {},
   "outputs": [],
   "source": [
    "print(df.isnull().sum())"
   ]
  },
  {
   "cell_type": "code",
   "execution_count": null,
   "id": "6c40c536",
   "metadata": {},
   "outputs": [],
   "source": [
    "print(df.duplicated().sum())"
   ]
  },
  {
   "cell_type": "markdown",
   "id": "cba04233",
   "metadata": {},
   "source": [
    "# decision tree classifier"
   ]
  },
  {
   "cell_type": "code",
   "execution_count": null,
   "id": "d61d4eee",
   "metadata": {},
   "outputs": [],
   "source": [
    "# Drop rows with missing values\n",
    "df.dropna(inplace=True)\n",
    "\n",
    "# Step 1: Drop object columns\n",
    "X = df.drop(columns=['Attack_label'])  # Drop target and any duplicates\n",
    "X = X.select_dtypes(include=['int64', 'float64', 'bool'])  # Keep numeric features only\n",
    "\n",
    "# Step 2: Set target\n",
    "y = df['Attack_label']\n",
    "\n",
    "# Train-val-test split: 70/20/10\n",
    "X_train, X_temp, y_train, y_temp = train_test_split(X, y, test_size=0.3, stratify=y, random_state=42)\n",
    "X_val, X_test, y_val, y_test = train_test_split(X_temp, y_temp, test_size=1/3, stratify=y_temp, random_state=42)\n"
   ]
  },
  {
   "cell_type": "code",
   "execution_count": null,
   "id": "c68fa3fa",
   "metadata": {},
   "outputs": [],
   "source": [
    "print(\"Train class distribution:\\n\", y_train.value_counts())\n",
    "print(\"Validation class distribution:\\n\", y_val.value_counts())\n",
    "print(\"Test class distribution:\\n\", y_test.value_counts())"
   ]
  },
  {
   "cell_type": "code",
   "execution_count": null,
   "id": "73a394c0",
   "metadata": {},
   "outputs": [],
   "source": [
    "print(\"X shape:\", X.shape)\n",
    "print(\"X columns:\", X.columns.tolist())"
   ]
  },
  {
   "cell_type": "code",
   "execution_count": null,
   "id": "267241ad",
   "metadata": {},
   "outputs": [],
   "source": [
    "\n",
    "\n",
    "\n",
    "model = XGBClassifier(\n",
    "    n_estimators=100,\n",
    "    learning_rate=0.1,\n",
    "    max_depth=6,\n",
    "    subsample=0.8,\n",
    "    colsample_bytree=0.8,\n",
    "    random_state=42,\n",
    "    use_label_encoder=False,       # Disable the label encoder warning\n",
    "    objective='binary:logistic',   # Important: binary classification objective\n",
    "    eval_metric='logloss'          # Evaluation metric\n",
    ")\n",
    "\n",
    "# Start timer\n",
    "start_time = time.time()\n",
    "\n",
    "model.fit(\n",
    "    X_train,\n",
    "    y_train,\n",
    "    eval_set=[(X_val, y_val)],\n",
    "    verbose=True  # Optional: shows training log\n",
    ")\n",
    "\n",
    "# End timer\n",
    "end_time = time.time()\n",
    "\n",
    "model.save_model(\"xgb_model.json\")\n",
    "\n",
    "# upload_file(\n",
    "#     path_or_fileobj=\"xgb_model.json\",  # or \"xgb_model.pkl\"\n",
    "#     path_in_repo=\"xgb_model.json\",     # File name in the repo\n",
    "#     repo_id=\"ScHemer34/DT_XGBoost\",\n",
    "#     repo_type=\"model\"\n",
    "# )\n"
   ]
  },
  {
   "cell_type": "code",
   "execution_count": null,
   "id": "e1b2fe43",
   "metadata": {},
   "outputs": [],
   "source": [
    "y_pred = model.predict(X_test)\n",
    "\n",
    "print(\"Test Accuracy:\", accuracy_score(y_test, y_pred))\n",
    "print(classification_report(y_test, y_pred, target_names=['normal', 'attack']))\n",
    "\n",
    "# Print duration\n",
    "training_duration = end_time - start_time\n",
    "print(f\"\\n✅ Model trained in {training_duration:.2f} seconds\")"
   ]
  },
  {
   "cell_type": "markdown",
   "id": "8533c351",
   "metadata": {},
   "source": [
    "# Dataset for Deep Learning Models"
   ]
  },
  {
   "cell_type": "code",
   "execution_count": 2,
   "id": "2b16554e",
   "metadata": {},
   "outputs": [
    {
     "name": "stderr",
     "output_type": "stream",
     "text": [
      "C:\\Users\\afnan\\AppData\\Local\\Temp\\ipykernel_11820\\2324740219.py:1: DtypeWarning: Columns (2,3,6,11,13,14,15,16,17,31,32,34,39,45,51,54,55) have mixed types. Specify dtype option on import or set low_memory=False.\n",
      "  df_fnn = pd.read_csv(\"E:/masters material/thesis/datasets/Edge-IIoTset dataset/Selected dataset for ML and DL/DNN-EdgeIIoT-dataset.csv\")  # adjust path\n"
     ]
    },
    {
     "name": "stdout",
     "output_type": "stream",
     "text": [
      "(2219201, 63)\n",
      "<class 'pandas.core.frame.DataFrame'>\n",
      "RangeIndex: 2219201 entries, 0 to 2219200\n",
      "Data columns (total 63 columns):\n",
      " #   Column                     Dtype  \n",
      "---  ------                     -----  \n",
      " 0   frame.time                 object \n",
      " 1   ip.src_host                object \n",
      " 2   ip.dst_host                object \n",
      " 3   arp.dst.proto_ipv4         object \n",
      " 4   arp.opcode                 float64\n",
      " 5   arp.hw.size                float64\n",
      " 6   arp.src.proto_ipv4         object \n",
      " 7   icmp.checksum              float64\n",
      " 8   icmp.seq_le                float64\n",
      " 9   icmp.transmit_timestamp    float64\n",
      " 10  icmp.unused                float64\n",
      " 11  http.file_data             object \n",
      " 12  http.content_length        float64\n",
      " 13  http.request.uri.query     object \n",
      " 14  http.request.method        object \n",
      " 15  http.referer               object \n",
      " 16  http.request.full_uri      object \n",
      " 17  http.request.version       object \n",
      " 18  http.response              float64\n",
      " 19  http.tls_port              float64\n",
      " 20  tcp.ack                    float64\n",
      " 21  tcp.ack_raw                float64\n",
      " 22  tcp.checksum               float64\n",
      " 23  tcp.connection.fin         float64\n",
      " 24  tcp.connection.rst         float64\n",
      " 25  tcp.connection.syn         float64\n",
      " 26  tcp.connection.synack      float64\n",
      " 27  tcp.dstport                float64\n",
      " 28  tcp.flags                  float64\n",
      " 29  tcp.flags.ack              float64\n",
      " 30  tcp.len                    float64\n",
      " 31  tcp.options                object \n",
      " 32  tcp.payload                object \n",
      " 33  tcp.seq                    float64\n",
      " 34  tcp.srcport                object \n",
      " 35  udp.port                   float64\n",
      " 36  udp.stream                 float64\n",
      " 37  udp.time_delta             float64\n",
      " 38  dns.qry.name               float64\n",
      " 39  dns.qry.name.len           object \n",
      " 40  dns.qry.qu                 float64\n",
      " 41  dns.qry.type               float64\n",
      " 42  dns.retransmission         float64\n",
      " 43  dns.retransmit_request     float64\n",
      " 44  dns.retransmit_request_in  float64\n",
      " 45  mqtt.conack.flags          object \n",
      " 46  mqtt.conflag.cleansess     float64\n",
      " 47  mqtt.conflags              float64\n",
      " 48  mqtt.hdrflags              float64\n",
      " 49  mqtt.len                   float64\n",
      " 50  mqtt.msg_decoded_as        float64\n",
      " 51  mqtt.msg                   object \n",
      " 52  mqtt.msgtype               float64\n",
      " 53  mqtt.proto_len             float64\n",
      " 54  mqtt.protoname             object \n",
      " 55  mqtt.topic                 object \n",
      " 56  mqtt.topic_len             float64\n",
      " 57  mqtt.ver                   float64\n",
      " 58  mbtcp.len                  float64\n",
      " 59  mbtcp.trans_id             float64\n",
      " 60  mbtcp.unit_id              float64\n",
      " 61  Attack_label               int64  \n",
      " 62  Attack_type                object \n",
      "dtypes: float64(42), int64(1), object(20)\n",
      "memory usage: 1.0+ GB\n"
     ]
    }
   ],
   "source": [
    "df_fnn = pd.read_csv(\"E:/masters material/thesis/datasets/Edge-IIoTset dataset/Selected dataset for ML and DL/DNN-EdgeIIoT-dataset.csv\")  # adjust path\n",
    "print(df_fnn.shape)\n",
    "df_fnn.info()\n",
    "\n"
   ]
  },
  {
   "cell_type": "code",
   "execution_count": null,
   "id": "c493fd26",
   "metadata": {},
   "outputs": [],
   "source": [
    "df_lstm = pd.read_csv(\"E:/masters material/thesis/datasets/Edge-IIoTset dataset/Selected dataset for ML and DL/DNN-EdgeIIoT-dataset.csv\")  # adjust path\n",
    "print(df_lstm.shape)\n",
    "df_lstm.info()\n"
   ]
  },
  {
   "cell_type": "markdown",
   "id": "1cd9d6ea",
   "metadata": {},
   "source": [
    "# Feed Forward Neural Network"
   ]
  },
  {
   "cell_type": "code",
   "execution_count": 3,
   "id": "85c6ecf6",
   "metadata": {},
   "outputs": [],
   "source": [
    "import torch.nn as nn\n",
    "\n",
    "\n",
    "class LinearNN(nn.Module):\n",
    "    def __init__(self, input_size):\n",
    "        super(LinearNN, self).__init__()\n",
    "        self.fc1 = nn.Linear(input_size, 16)\n",
    "        self.relu1 = nn.LeakyReLU(negative_slope=0.01)\n",
    "        self.fc2 = nn.Linear(16, 8)\n",
    "        self.relu2 = nn.LeakyReLU(negative_slope=0.01)\n",
    "        self.output = nn.Linear(8, 1)  # Output = 1 for binary classification\n",
    "\n",
    "    def forward(self, x):\n",
    "        x = self.fc1(x)\n",
    "        x = self.relu1(x)\n",
    "        x = self.fc2(x)\n",
    "        x = self.relu2(x)\n",
    "        x = self.output(x)  # No sigmoid here if using BCEWithLogitsLoss\n",
    "        return x"
   ]
  },
  {
   "cell_type": "code",
   "execution_count": 3,
   "id": "2d07d8b9",
   "metadata": {},
   "outputs": [],
   "source": [
    "# Drop rows with missing values\n",
    "df_fnn.dropna(inplace=True)\n",
    "\n",
    "#encoding important columns\n",
    "# Initialize encoder\n",
    "method_encoder = LabelEncoder()\n",
    "\n",
    "# Fit and transform\n",
    "df_fnn['http.request.method_encoded'] = method_encoder.fit_transform(df_fnn['http.request.method'].astype(str))\n",
    "df_fnn['http.request.version_encoded'] = np.where(df_fnn['http.request.version'].astype(str).str.strip() == '0', 0, 1)\n",
    "df_fnn['mqtt_topic'] = method_encoder.fit_transform(df_fnn['mqtt.topic'].astype(str))\n",
    "df_fnn['mqtt_protoname'] = method_encoder.fit_transform(df_fnn['mqtt.protoname'].astype(str))\n",
    "df_fnn['Attack_type'] = np.where(df_fnn['Attack_type'].astype(str).str.strip() == 'normal', 0, 1)\n",
    "\n",
    "\n",
    "# Step 2: Set target\n",
    "y_fnn = df_fnn['Attack_label']\n",
    "\n",
    "# Now drop object and unnecessary columns\n",
    "X_fnn = df_fnn.drop(columns=[\n",
    "    'Attack_label', 'http.request.full_uri', 'http.referer', 'http.file_data', \n",
    "    'tcp.payload', 'frame.time', 'mqtt.msg', 'tcp.options', 'dns.qry.name', \n",
    "    'http.request.method', 'http.request.version', 'mqtt.topic', 'mqtt.protoname','ip.src_host',\n",
    "    'ip.dst_host','arp.dst.proto_ipv4','arp.src.proto_ipv4','http.request.uri.query','tcp.srcport',\n",
    "    'dns.qry.name.len','mqtt.conack.flags'\n",
    "])"
   ]
  },
  {
   "cell_type": "code",
   "execution_count": 4,
   "id": "91257a19",
   "metadata": {},
   "outputs": [],
   "source": [
    "\n",
    "# First split: Train 70%, Temp 30%\n",
    "X_train_fnn, X_temp_fnn, y_train_fnn, y_temp_fnn = train_test_split(\n",
    "    X_fnn, y_fnn, test_size=0.3, stratify=y_fnn, random_state=42\n",
    ")\n",
    "\n",
    "# Second split: Validation 20% (2/3 of 30%), Test 10% (1/3 of 30%)\n",
    "X_val_fnn, X_test_fnn, y_val_fnn, y_test_fnn = train_test_split(\n",
    "    X_temp_fnn, y_temp_fnn, test_size=1/3, stratify=y_temp_fnn, random_state=42\n",
    ")\n",
    "\n",
    "# Reset indices to avoid any overlap when converting to NumPy later\n",
    "X_train_fnn = X_train_fnn.reset_index(drop=True)\n",
    "X_val_fnn = X_val_fnn.reset_index(drop=True)\n",
    "X_test_fnn = X_test_fnn.reset_index(drop=True)\n",
    "\n",
    "y_train_fnn = y_train_fnn.reset_index(drop=True)\n",
    "y_val_fnn = y_val_fnn.reset_index(drop=True)\n",
    "y_test_fnn = y_test_fnn.reset_index(drop=True)\n"
   ]
  },
  {
   "cell_type": "code",
   "execution_count": 5,
   "id": "ccb33578",
   "metadata": {},
   "outputs": [
    {
     "name": "stdout",
     "output_type": "stream",
     "text": [
      "Train/Val Overlap: 69374\n"
     ]
    }
   ],
   "source": [
    "overlap = set(map(tuple, X_train_fnn.values)) & set(map(tuple, X_val_fnn.values))\n",
    "print(f\"Train/Val Overlap: {len(overlap)}\")  # Should be 0"
   ]
  },
  {
   "cell_type": "code",
   "execution_count": 6,
   "id": "7eaba97d",
   "metadata": {},
   "outputs": [
    {
     "name": "stdout",
     "output_type": "stream",
     "text": [
      "Train class distribution:\n",
      " Attack_label\n",
      "0    1130950\n",
      "1     422490\n",
      "Name: count, dtype: int64\n",
      "Validation class distribution:\n",
      " Attack_label\n",
      "0    323128\n",
      "1    120712\n",
      "Name: count, dtype: int64\n",
      "Test class distribution:\n",
      " Attack_label\n",
      "0    161565\n",
      "1     60356\n",
      "Name: count, dtype: int64\n"
     ]
    }
   ],
   "source": [
    "print(\"Train class distribution:\\n\", y_train_fnn.value_counts())\n",
    "print(\"Validation class distribution:\\n\", y_val_fnn.value_counts())\n",
    "print(\"Test class distribution:\\n\", y_test_fnn.value_counts())"
   ]
  },
  {
   "cell_type": "code",
   "execution_count": 6,
   "id": "d9a5b96b",
   "metadata": {},
   "outputs": [],
   "source": [
    "for col in X_fnn.columns:\n",
    "    if X_fnn[col].apply(type).nunique() > 1:\n",
    "        print(f\"{col}: {X_fnn[col].apply(type).value_counts()}\")"
   ]
  },
  {
   "cell_type": "code",
   "execution_count": null,
   "id": "b4614bfe",
   "metadata": {},
   "outputs": [],
   "source": [
    "X_fnn.info()\n"
   ]
  },
  {
   "cell_type": "code",
   "execution_count": 7,
   "id": "1820ff5f",
   "metadata": {},
   "outputs": [
    {
     "name": "stdout",
     "output_type": "stream",
     "text": [
      "Series([], dtype: object)\n"
     ]
    }
   ],
   "source": [
    "#normalize the data\n",
    "# scaler = StandardScaler()\n",
    "# X_train_fnn = scaler.fit_transform(X_train_fnn)\n",
    "# X_val_fnn = scaler.transform(X_val_fnn)\n",
    "# X_test_fnn = scaler.transform(X_test_fnn)\n",
    "\n",
    "print(X_fnn.dtypes[X_fnn.dtypes == 'object'])\n",
    "\n",
    "# convert dataframe to pytorch tensors\n",
    "X_train_tensor_fnn = torch.tensor(X_train_fnn.to_numpy(), dtype=torch.float32)\n",
    "y_train_tensor_fnn = torch.tensor(y_train_fnn.to_numpy(), dtype=torch.float32)\n",
    "\n",
    "X_val_tensor_fnn = torch.tensor(X_val_fnn.to_numpy(), dtype=torch.float32)\n",
    "y_val_tensor_fnn = torch.tensor(y_val_fnn.to_numpy(), dtype=torch.float32)"
   ]
  },
  {
   "cell_type": "code",
   "execution_count": 8,
   "id": "3986e333",
   "metadata": {},
   "outputs": [
    {
     "name": "stdout",
     "output_type": "stream",
     "text": [
      "Epoch [1/30], Loss: 14127033.0000, Val Loss: 14088618.0000\n",
      "Epoch [2/30], Loss: 14086947.0000, Val Loss: 14048589.0000\n",
      "Epoch [3/30], Loss: 14046937.0000, Val Loss: 14008634.0000\n",
      "Epoch [4/30], Loss: 14007001.0000, Val Loss: 13968753.0000\n",
      "Epoch [5/30], Loss: 13967140.0000, Val Loss: 13928954.0000\n",
      "Epoch [6/30], Loss: 13927359.0000, Val Loss: 13889229.0000\n",
      "Epoch [7/30], Loss: 13887656.0000, Val Loss: 13849585.0000\n",
      "Epoch [8/30], Loss: 13848032.0000, Val Loss: 13810023.0000\n",
      "Epoch [9/30], Loss: 13808487.0000, Val Loss: 13770543.0000\n",
      "Epoch [10/30], Loss: 13769025.0000, Val Loss: 13731145.0000\n",
      "Epoch [11/30], Loss: 13729648.0000, Val Loss: 13691829.0000\n",
      "Epoch [12/30], Loss: 13690354.0000, Val Loss: 13652601.0000\n",
      "Epoch [13/30], Loss: 13651143.0000, Val Loss: 13613455.0000\n",
      "Epoch [14/30], Loss: 13612017.0000, Val Loss: 13574398.0000\n",
      "Epoch [15/30], Loss: 13572977.0000, Val Loss: 13535428.0000\n",
      "Epoch [16/30], Loss: 13534027.0000, Val Loss: 13496546.0000\n",
      "Epoch [17/30], Loss: 13495163.0000, Val Loss: 13457751.0000\n",
      "Epoch [18/30], Loss: 13456388.0000, Val Loss: 13419045.0000\n",
      "Epoch [19/30], Loss: 13417703.0000, Val Loss: 13380432.0000\n",
      "Epoch [20/30], Loss: 13379107.0000, Val Loss: 13341908.0000\n",
      "Epoch [21/30], Loss: 13340601.0000, Val Loss: 13303477.0000\n",
      "Epoch [22/30], Loss: 13302189.0000, Val Loss: 13265136.0000\n",
      "Epoch [23/30], Loss: 13263868.0000, Val Loss: 13226889.0000\n",
      "Epoch [24/30], Loss: 13225640.0000, Val Loss: 13188734.0000\n",
      "Epoch [25/30], Loss: 13187504.0000, Val Loss: 13150674.0000\n",
      "Epoch [26/30], Loss: 13149461.0000, Val Loss: 13112705.0000\n",
      "Epoch [27/30], Loss: 13111512.0000, Val Loss: 13074830.0000\n",
      "Epoch [28/30], Loss: 13073655.0000, Val Loss: 13037049.0000\n",
      "Epoch [29/30], Loss: 13035893.0000, Val Loss: 12999363.0000\n",
      "Epoch [30/30], Loss: 12998225.0000, Val Loss: 12961772.0000\n"
     ]
    }
   ],
   "source": [
    "# Start timer\n",
    "start_time_fnn = time.time()\n",
    "\n",
    "model_fnn = LinearNN(input_size=X_train_fnn.shape[1])\n",
    "criterion = nn.BCEWithLogitsLoss()\n",
    "optimizer = torch.optim.Adam(model_fnn.parameters(), lr=0.0001)\n",
    "\n",
    "num_epochs = 30\n",
    "for epoch in range(num_epochs):\n",
    "    model_fnn.train()\n",
    "    \n",
    "    outputs = model_fnn(X_train_tensor_fnn).squeeze()\n",
    "    loss = criterion(outputs, y_train_tensor_fnn.float())\n",
    "\n",
    "    loss.backward()\n",
    "    optimizer.step()\n",
    "    optimizer.zero_grad()\n",
    "\n",
    "    # Calculate validation loss\n",
    "    model_fnn.eval()  # Set model to evaluation mode\n",
    "    with torch.no_grad():  # No need to track gradients during validation\n",
    "        val_outputs = model_fnn(X_val_tensor_fnn).squeeze()\n",
    "        val_loss = criterion(val_outputs, y_val_tensor_fnn.float())\n",
    "\n",
    "    # Print epoch information\n",
    "    model_fnn.train()  # Set model back to training mode\n",
    "    print(f\"Epoch [{epoch+1}/{num_epochs}], Loss: {loss.item():.4f}, Val Loss: {val_loss.item():.4f}\")\n",
    "\n",
    "\n",
    "# End timer\n",
    "end_time_fnn = time.time()\n",
    "\n",
    "torch.save(model_fnn.state_dict(), \"linear_nn_model.pth\")"
   ]
  },
  {
   "cell_type": "code",
   "execution_count": 9,
   "id": "3f23467d",
   "metadata": {},
   "outputs": [
    {
     "name": "stdout",
     "output_type": "stream",
     "text": [
      "\n",
      "🧪 Test Accuracy: 0.7280\n",
      "⏱️ Model trained in 12.76 seconds\n"
     ]
    }
   ],
   "source": [
    "model_fnn.eval()\n",
    "with torch.no_grad():\n",
    "    X_test_tensor = torch.tensor(X_test_fnn.values, dtype=torch.float32)\n",
    "    y_test_tensor = torch.tensor(y_test_fnn.values, dtype=torch.float32)\n",
    "\n",
    "    outputs = model_fnn(X_test_tensor).squeeze()\n",
    "    probs = torch.sigmoid(outputs)\n",
    "    preds = (probs > 0.5).float()\n",
    "\n",
    "    correct = (preds == y_test_tensor).sum().item()\n",
    "    accuracy = correct / y_test_tensor.shape[0]\n",
    "\n",
    "print(f\"\\n🧪 Test Accuracy: {accuracy:.4f}\")\n",
    "\n",
    "# Print duration\n",
    "training_duration_fnn = end_time_fnn - start_time_fnn\n",
    "print(f\"⏱️ Model trained in {training_duration_fnn:.2f} seconds\")"
   ]
  },
  {
   "cell_type": "markdown",
   "id": "10160086",
   "metadata": {},
   "source": [
    "# Long Short Term Memory\n"
   ]
  },
  {
   "cell_type": "code",
   "execution_count": 7,
   "id": "a1c180df",
   "metadata": {},
   "outputs": [],
   "source": [
    "from tensorflow.keras.models import Sequential\n",
    "from tensorflow.keras.layers import LSTM, Dense, Dropout\n",
    "from tensorflow.keras.optimizers import Adam\n",
    "from tensorflow.keras.losses import BinaryCrossentropy"
   ]
  },
  {
   "cell_type": "code",
   "execution_count": 8,
   "id": "d2d30704",
   "metadata": {},
   "outputs": [],
   "source": [
    "timesteps = 1\n",
    "\n",
    "num_features = X_train_fnn.shape[1]\n",
    "\n",
    "# --- Step 1: Convert DataFrames to NumPy Arrays ---\n",
    "X_train_np = X_train_fnn.to_numpy()\n",
    "y_train_np = y_train_fnn.to_numpy().reshape(-1, 1)\n",
    "\n",
    "X_val_np = X_val_fnn.to_numpy()\n",
    "y_val_np = y_val_fnn.to_numpy().reshape(-1, 1)\n",
    "\n",
    "# --- Step 2: Scale Features ---\n",
    "scaler = MinMaxScaler()\n",
    "X_train_scaled = scaler.fit_transform(X_train_np)\n",
    "X_val_scaled = scaler.transform(X_val_np)  # use transform only on val\n",
    "\n",
    "X_train_lstm = X_train_scaled.reshape(-1, timesteps, num_features)\n",
    "X_val_lstm = X_val_scaled.reshape(-1, timesteps, num_features)\n"
   ]
  },
  {
   "cell_type": "code",
   "execution_count": 9,
   "id": "192477c5",
   "metadata": {},
   "outputs": [
    {
     "name": "stdout",
     "output_type": "stream",
     "text": [
      "Overlapping samples: 69374\n"
     ]
    }
   ],
   "source": [
    "intersection = set(map(tuple, X_train_np)) & set(map(tuple, X_val_np))\n",
    "print(f\"Overlapping samples: {len(intersection)}\")"
   ]
  },
  {
   "cell_type": "code",
   "execution_count": 9,
   "id": "16e5f9d0",
   "metadata": {},
   "outputs": [
    {
     "name": "stderr",
     "output_type": "stream",
     "text": [
      "C:\\Users\\afnan\\anaconda3\\Lib\\site-packages\\keras\\src\\layers\\rnn\\rnn.py:204: UserWarning: Do not pass an `input_shape`/`input_dim` argument to a layer. When using Sequential models, prefer using an `Input(shape)` object as the first layer in the model instead.\n",
      "  super().__init__(**kwargs)\n"
     ]
    },
    {
     "name": "stdout",
     "output_type": "stream",
     "text": [
      "Epoch 1/2\n",
      "\u001b[1m24273/24273\u001b[0m \u001b[32m━━━━━━━━━━━━━━━━━━━━\u001b[0m\u001b[37m\u001b[0m \u001b[1m50s\u001b[0m 2ms/step - accuracy: 0.9887 - loss: 0.0299 - val_accuracy: 1.0000 - val_loss: 1.8871e-11\n",
      "Epoch 2/2\n",
      "\u001b[1m24273/24273\u001b[0m \u001b[32m━━━━━━━━━━━━━━━━━━━━\u001b[0m\u001b[37m\u001b[0m \u001b[1m48s\u001b[0m 2ms/step - accuracy: 1.0000 - loss: 2.8114e-08 - val_accuracy: 1.0000 - val_loss: 1.0822e-13\n",
      "training duration is: 98.37376022338867\n"
     ]
    }
   ],
   "source": [
    "# ---------- 2. Define LSTM model ----------\n",
    "model = Sequential()\n",
    "model.add(LSTM(32, return_sequences=False, input_shape=(timesteps, num_features)))\n",
    "model.add(Dropout(0.5))\n",
    "model.add(Dense(1, activation='sigmoid'))\n",
    "\n",
    "model.compile(optimizer=Adam(learning_rate=0.001), loss='binary_crossentropy', metrics=['accuracy'])\n",
    "\n",
    "early_stop = EarlyStopping(monitor='val_loss', patience=3, restore_best_weights=True)\n",
    "\n",
    "\n",
    "# Step 5: Train\n",
    "start_time_lstm = time.time()\n",
    "history = model.fit(\n",
    "    X_train_lstm, \n",
    "    y_train_np,                # use y_full if labels are binary\n",
    "    validation_data=(X_val_lstm, y_val_np), #validation checking dataset\n",
    "    epochs=2,\n",
    "    batch_size=64,\n",
    "    callbacks=[early_stop],\n",
    "    verbose=1\n",
    ")\n",
    "end_time_lstm = time.time()\n",
    "training_duration_lstm = end_time_lstm - start_time_lstm\n",
    "print(f\"training duration is: {training_duration_lstm}\")"
   ]
  },
  {
   "cell_type": "code",
   "execution_count": 10,
   "id": "8c012191",
   "metadata": {},
   "outputs": [
    {
     "data": {
      "image/png": "[encoded data removed]",
      "text/plain": [
       "<Figure size 640x480 with 1 Axes>"
      ]
     },
     "metadata": {},
     "output_type": "display_data"
    }
   ],
   "source": [
    "# ---------- 4. Check loss over time ----------\n",
    "import matplotlib.pyplot as plt\n",
    "plt.plot(history.history['loss'])\n",
    "plt.title('Loss over Epochs (Overfitting Test)')\n",
    "plt.xlabel('Epoch')\n",
    "plt.ylabel('Loss')\n",
    "plt.grid(True)\n",
    "plt.show()"
   ]
  },
  {
   "cell_type": "code",
   "execution_count": 11,
   "id": "1dd8d21f",
   "metadata": {},
   "outputs": [
    {
     "name": "stdout",
     "output_type": "stream",
     "text": [
      "x_test_fnn shape: (221921, 46)\n",
      "timesteps: 1\n",
      "num_features: 46\n"
     ]
    }
   ],
   "source": [
    "print(\"x_test_fnn shape:\", X_test_fnn.shape)\n",
    "print(\"timesteps:\", timesteps)\n",
    "print(\"num_features:\", num_features)"
   ]
  },
  {
   "cell_type": "code",
   "execution_count": 12,
   "id": "1ed449a0",
   "metadata": {},
   "outputs": [
    {
     "name": "stdout",
     "output_type": "stream",
     "text": [
      "X_test_array shape: (221921, 46)\n",
      "X_test_lstm shape: (221921, 1, 46)\n"
     ]
    }
   ],
   "source": [
    "X_test_array = X_test_fnn.to_numpy()  # Convert to numpy array\n",
    "y_test_np = y_test_fnn.to_numpy().reshape(-1, 1)\n",
    "\n",
    "# Check shape of X_test_array\n",
    "print(\"X_test_array shape:\", X_test_array.shape)\n",
    "\n",
    "# Reshape to (samples, timesteps, num_features)\n",
    "X_test_lstm = X_test_array.reshape((X_test_array.shape[0], timesteps, num_features))\n",
    "print(\"X_test_lstm shape:\", X_test_lstm.shape)"
   ]
  },
  {
   "cell_type": "code",
   "execution_count": 13,
   "id": "b22d7d39",
   "metadata": {},
   "outputs": [
    {
     "name": "stdout",
     "output_type": "stream",
     "text": [
      "\u001b[1m6936/6936\u001b[0m \u001b[32m━━━━━━━━━━━━━━━━━━━━\u001b[0m\u001b[37m\u001b[0m \u001b[1m8s\u001b[0m 1ms/step - accuracy: 0.8258 - loss: 1.9018\n",
      "Test Loss: 1.8798\n",
      "Test Accuracy: 0.8270\n",
      "\u001b[1m6936/6936\u001b[0m \u001b[32m━━━━━━━━━━━━━━━━━━━━\u001b[0m\u001b[37m\u001b[0m \u001b[1m7s\u001b[0m 1ms/step\n",
      "              precision    recall  f1-score   support\n",
      "\n",
      "           0       0.83      0.96      0.89    161565\n",
      "           1       0.81      0.47      0.60     60356\n",
      "\n",
      "    accuracy                           0.83    221921\n",
      "   macro avg       0.82      0.72      0.74    221921\n",
      "weighted avg       0.83      0.83      0.81    221921\n",
      "\n"
     ]
    }
   ],
   "source": [
    "# Evaluate model\n",
    "test_loss, test_accuracy = model.evaluate(X_test_lstm, y_test_np, verbose=1)\n",
    "print(f\"Test Loss: {test_loss:.4f}\")\n",
    "print(f\"Test Accuracy: {test_accuracy:.4f}\")\n",
    "\n",
    "# Predict\n",
    "y_pred_prob = model.predict(X_test_lstm)\n",
    "y_pred = (y_pred_prob > 0.5).astype(int)\n",
    "\n",
    "# Print classification report\n",
    "from sklearn.metrics import classification_report\n",
    "print(classification_report(y_test_np, y_pred))"
   ]
  },
  {
   "cell_type": "code",
   "execution_count": 20,
   "id": "8a6dd682",
   "metadata": {},
   "outputs": [
    {
     "name": "stdout",
     "output_type": "stream",
     "text": [
      "X_test_lstm shape: (221921, 1, 46)\n",
      "y_test_np shape: (221921,)\n",
      "X_test_lstm dtype: float64\n",
      "y_test_np dtype: int64\n"
     ]
    }
   ],
   "source": [
    "print(\"X_test_lstm shape:\", X_test_lstm.shape)\n",
    "print(\"y_test_np shape:\", y_test_np.shape)\n",
    "print(\"X_test_lstm dtype:\", X_test_lstm.dtype)\n",
    "print(\"y_test_np dtype:\", y_test_np.dtype)"
   ]
  },
  {
   "cell_type": "code",
   "execution_count": 4,
   "id": "2e1f0268",
   "metadata": {},
   "outputs": [],
   "source": [
    "import torch.nn as lstm\n",
    "\n",
    "class LSTMModel(lstm.Module):\n",
    "    def __init__(self, input_size, hidden_size=32):\n",
    "        super(LSTMModel, self).__init__()\n",
    "        self.lstm1 = lstm.LSTM(input_size=input_size, hidden_size=hidden_size, batch_first=True)\n",
    "#         self.lstm2 = nn.LSTM(input_size=hidden_size, hidden_size=hidden_size, batch_first=True)\n",
    "        self.fc = lstm.Linear(hidden_size, 1)\n",
    "\n",
    "    def forward(self, x):\n",
    "        out, _ = self.lstm1(x)\n",
    "#         out, _ = self.lstm2(out)  # note: this should take 'out' from lstm1\n",
    "        out = out[:, -1, :]\n",
    "        out = self.fc(out)\n",
    "        return out\n",
    "\n"
   ]
  },
  {
   "cell_type": "code",
   "execution_count": 6,
   "id": "d8e52b91",
   "metadata": {},
   "outputs": [
    {
     "name": "stdout",
     "output_type": "stream",
     "text": [
      "Using device: cuda\n"
     ]
    }
   ],
   "source": [
    "\n",
    "# Step 1: Scale the features\n",
    "scaler = MinMaxScaler()\n",
    "X_train_scaled_lstm = scaler.fit_transform(X_train_fnn)\n",
    "X_val_scaled_lstm = scaler.transform(X_val_fnn)\n",
    "X_test_scaled_lstm = scaler.transform(X_test_fnn)\n",
    "\n",
    "\n",
    "# Step 2: Convert features to tensors (and unsqueeze for LSTM shape: [batch, seq_len, input_size])\n",
    "X_train_tensor_lstm = torch.tensor(X_train_scaled_lstm, dtype=torch.float32).unsqueeze(1)\n",
    "X_val_tensor_lstm = torch.tensor(X_val_scaled_lstm, dtype=torch.float32).unsqueeze(1)\n",
    "X_test_tensor_lstm = torch.tensor(X_test_scaled_lstm, dtype=torch.float32).unsqueeze(1)\n",
    "\n",
    "# Step 2: Convert features to tensors (and unsqueeze for LSTM shape: [batch, seq_len, input_size])\n",
    "# X_train_tensor_lstm = torch.tensor(X_train_fnn.values, dtype=torch.float32).unsqueeze(1)\n",
    "# X_val_tensor_lstm = torch.tensor(X_val_fnn.values, dtype=torch.float32).unsqueeze(1)\n",
    "# X_test_tensor_lstm = torch.tensor(X_test_fnn.values, dtype=torch.float32).unsqueeze(1)\n",
    "\n",
    "# Step 3: Convert targets to tensors (and unsqueeze for [batch_size, 1] if needed)\n",
    "y_train_tensor_lstm = torch.tensor(y_train_fnn.to_numpy(), dtype=torch.float32).unsqueeze(1)\n",
    "y_val_tensor_lstm = torch.tensor(y_val_fnn.to_numpy(), dtype=torch.float32).unsqueeze(1)\n",
    "y_test_tensor_lstm = torch.tensor(y_test_fnn.to_numpy(), dtype=torch.float32).unsqueeze(1)\n",
    "\n",
    "# Step 4: Set the device (GPU if available, else CPU)\n",
    "device = torch.device(\"cuda\" if torch.cuda.is_available() else \"cpu\")\n",
    "print(\"Using device:\", device)\n",
    "\n",
    "\n",
    "# 3. Wrap tensors into a Dataset\n",
    "train_dataset = TensorDataset(X_train_tensor_lstm, y_train_tensor_lstm)\n",
    "val_dataset = TensorDataset(X_val_tensor_lstm, y_val_tensor_lstm)\n",
    "test_dataset = TensorDataset(X_test_tensor_lstm, y_test_tensor_lstm)\n",
    "\n",
    "# 4. Use DataLoader for batching\n",
    "train_loader = DataLoader(train_dataset, batch_size=32, shuffle=True)\n",
    "val_loader = DataLoader(val_dataset, batch_size=32)\n",
    "test_loader = DataLoader(test_dataset, batch_size=32)  # You can tune the batch size"
   ]
  },
  {
   "cell_type": "code",
   "execution_count": 7,
   "id": "640d83ed",
   "metadata": {},
   "outputs": [
    {
     "name": "stdout",
     "output_type": "stream",
     "text": [
      "0.27197059988975525\n"
     ]
    }
   ],
   "source": [
    "print(y_train_tensor_lstm.mean().item())"
   ]
  },
  {
   "cell_type": "code",
   "execution_count": 17,
   "id": "93339dde",
   "metadata": {},
   "outputs": [
    {
     "name": "stdout",
     "output_type": "stream",
     "text": [
      "out range: 0.04480889439582825 0.13782501220703125\n",
      "Epoch 0, Loss: 0.2094\n",
      "out range: 0.04480889439582825 0.13782501220703125\n",
      "Epoch 1, Loss: 0.2094\n",
      "out range: 0.04480889439582825 0.13782501220703125\n",
      "Epoch 2, Loss: 0.2094\n",
      "out range: 0.04480889439582825 0.13782501220703125\n",
      "Epoch 3, Loss: 0.2094\n",
      "out range: 0.04480889439582825 0.13782501220703125\n",
      "Epoch 4, Loss: 0.2094\n",
      "out range: 0.04480889439582825 0.13782501220703125\n",
      "Epoch 5, Loss: 0.2094\n",
      "out range: 0.04480889439582825 0.13782501220703125\n",
      "Epoch 6, Loss: 0.2094\n",
      "out range: 0.04480889439582825 0.13782501220703125\n",
      "Epoch 7, Loss: 0.2094\n",
      "out range: 0.04480889439582825 0.13782501220703125\n",
      "Epoch 8, Loss: 0.2094\n",
      "out range: 0.04480889439582825 0.13782501220703125\n",
      "Epoch 9, Loss: 0.2094\n",
      "out range: 0.04480889439582825 0.13782501220703125\n",
      "Epoch 10, Loss: 0.2094\n",
      "out range: 0.04480889439582825 0.13782501220703125\n",
      "Epoch 11, Loss: 0.2094\n",
      "out range: 0.04480889439582825 0.13782501220703125\n",
      "Epoch 12, Loss: 0.2094\n",
      "out range: 0.04480889439582825 0.13782501220703125\n",
      "Epoch 13, Loss: 0.2094\n",
      "out range: 0.04480889439582825 0.13782501220703125\n",
      "Epoch 14, Loss: 0.2094\n",
      "out range: 0.04480889439582825 0.13782501220703125\n",
      "Epoch 15, Loss: 0.2094\n",
      "out range: 0.04480889439582825 0.13782501220703125\n",
      "Epoch 16, Loss: 0.2094\n",
      "out range: 0.04480889439582825 0.13782501220703125\n",
      "Epoch 17, Loss: 0.2094\n",
      "out range: 0.04480889439582825 0.13782501220703125\n",
      "Epoch 18, Loss: 0.2094\n",
      "out range: 0.04480889439582825 0.13782501220703125\n",
      "Epoch 19, Loss: 0.2094\n",
      "out range: 0.04480889439582825 0.13782501220703125\n",
      "Epoch 20, Loss: 0.2094\n",
      "out range: 0.04480889439582825 0.13782501220703125\n",
      "Epoch 21, Loss: 0.2094\n",
      "out range: 0.04480889439582825 0.13782501220703125\n",
      "Epoch 22, Loss: 0.2094\n",
      "out range: 0.04480889439582825 0.13782501220703125\n",
      "Epoch 23, Loss: 0.2094\n",
      "out range: 0.04480889439582825 0.13782501220703125\n",
      "Epoch 24, Loss: 0.2094\n",
      "out range: 0.04480889439582825 0.13782501220703125\n",
      "Epoch 25, Loss: 0.2094\n",
      "out range: 0.04480889439582825 0.13782501220703125\n",
      "Epoch 26, Loss: 0.2094\n",
      "out range: 0.04480889439582825 0.13782501220703125\n",
      "Epoch 27, Loss: 0.2094\n",
      "out range: 0.04480889439582825 0.13782501220703125\n",
      "Epoch 28, Loss: 0.2094\n",
      "out range: 0.04480889439582825 0.13782501220703125\n",
      "Epoch 29, Loss: 0.2094\n",
      "out range: 0.04480889439582825 0.13782501220703125\n",
      "Epoch 30, Loss: 0.2094\n",
      "out range: 0.04480889439582825 0.13782501220703125\n",
      "Epoch 31, Loss: 0.2094\n",
      "out range: 0.04480889439582825 0.13782501220703125\n",
      "Epoch 32, Loss: 0.2094\n",
      "out range: 0.04480889439582825 0.13782501220703125\n",
      "Epoch 33, Loss: 0.2094\n",
      "out range: 0.04480889439582825 0.13782501220703125\n",
      "Epoch 34, Loss: 0.2094\n",
      "out range: 0.04480889439582825 0.13782501220703125\n",
      "Epoch 35, Loss: 0.2094\n",
      "out range: 0.04480889439582825 0.13782501220703125\n",
      "Epoch 36, Loss: 0.2094\n",
      "out range: 0.04480889439582825 0.13782501220703125\n",
      "Epoch 37, Loss: 0.2094\n",
      "out range: 0.04480889439582825 0.13782501220703125\n",
      "Epoch 38, Loss: 0.2094\n",
      "out range: 0.04480889439582825 0.13782501220703125\n",
      "Epoch 39, Loss: 0.2094\n"
     ]
    }
   ],
   "source": [
    "# Use a small subset\n",
    "input_size = 46\n",
    "model_lstm = LSTMModel(input_size=input_size).to(device)\n",
    "\n",
    "criterion = torch.nn.MSELoss()\n",
    "optimizer = torch.optim.Adam(model_lstm.parameters(), lr=0.001)\n",
    "X_small = X_small[:, :, -5:]  # Last 5 columns where values are non-zero\n",
    "X_small = X_train_tensor_lstm[:32].to(device)\n",
    "y_small = y_train_tensor_lstm[:32].to(device)\n",
    "\n",
    "\n",
    "model_lstm = LSTMModel(input_size=input_size).to(device)\n",
    "\n",
    "for i in range(40):\n",
    "    model_lstm.train()\n",
    "    optimizer.zero_grad()\n",
    "    out = model_lstm(X_small)\n",
    "    loss = criterion(out, y_small)\n",
    "    print(\"out range:\", out.min().item(), out.max().item())\n",
    "    loss.backward()\n",
    "    optimizer.step()\n",
    "    print(f\"Epoch {i}, Loss: {loss.item():.4f}\")"
   ]
  },
  {
   "cell_type": "code",
   "execution_count": 11,
   "id": "d1e667a6",
   "metadata": {},
   "outputs": [
    {
     "name": "stdout",
     "output_type": "stream",
     "text": [
      "out.shape torch.Size([32, 1])\n",
      "y_small shape: torch.Size([32, 1])\n"
     ]
    }
   ],
   "source": [
    "print(\"out.shape\", out.shape)\n",
    "print(\"y_small shape:\", y_small.shape)"
   ]
  },
  {
   "cell_type": "code",
   "execution_count": 19,
   "id": "ac6a41fd",
   "metadata": {},
   "outputs": [
    {
     "name": "stdout",
     "output_type": "stream",
     "text": [
      "[[0.  0.  0.  ... 1.  0.5 0.5]\n",
      " [0.  0.  0.  ... 1.  0.  0. ]\n",
      " [0.  0.  0.  ... 1.  0.  0. ]\n",
      " ...\n",
      " [0.  0.  0.  ... 1.  0.  0. ]\n",
      " [0.  0.  0.  ... 1.  0.  0. ]\n",
      " [0.  0.  0.  ... 1.  0.5 0.5]]\n"
     ]
    }
   ],
   "source": [
    "print(X_small.squeeze().cpu().numpy())  # shape (32, 46)"
   ]
  },
  {
   "cell_type": "code",
   "execution_count": 12,
   "id": "54c4b9e4",
   "metadata": {},
   "outputs": [
    {
     "name": "stdout",
     "output_type": "stream",
     "text": [
      "torch.float32\n"
     ]
    }
   ],
   "source": [
    "print(y_small.dtype)"
   ]
  },
  {
   "cell_type": "code",
   "execution_count": 13,
   "id": "f925720d",
   "metadata": {},
   "outputs": [
    {
     "name": "stdout",
     "output_type": "stream",
     "text": [
      "X_small shape: torch.Size([32, 1, 46])\n"
     ]
    }
   ],
   "source": [
    "print(\"X_small shape:\", X_small.shape)"
   ]
  },
  {
   "cell_type": "code",
   "execution_count": 20,
   "id": "592787ea",
   "metadata": {},
   "outputs": [
    {
     "name": "stdout",
     "output_type": "stream",
     "text": [
      "[0.27292519 0.16396384 0.10222466 0.08529597 0.0666497 ]\n"
     ]
    }
   ],
   "source": [
    "from sklearn.decomposition import PCA\n",
    "\n",
    "X_np = X_train_tensor_lstm.squeeze(1).cpu().numpy()\n",
    "pca = PCA(n_components=5)\n",
    "X_reduced = pca.fit_transform(X_np)\n",
    "\n",
    "print(pca.explained_variance_ratio_)  # see how much signal is in first few features\n"
   ]
  },
  {
   "cell_type": "code",
   "execution_count": null,
   "id": "fb5938a8",
   "metadata": {},
   "outputs": [],
   "source": []
  },
  {
   "cell_type": "code",
   "execution_count": 23,
   "id": "37e897db",
   "metadata": {},
   "outputs": [
    {
     "name": "stdout",
     "output_type": "stream",
     "text": [
      "Train label distribution: (tensor([0., 1.]), tensor([1130950,  422490]))\n",
      "Val label distribution: (tensor([0., 1.]), tensor([323128, 120712]))\n"
     ]
    }
   ],
   "source": [
    "print(\"Train label distribution:\", torch.unique(y_train_tensor_lstm, return_counts=True))\n",
    "print(\"Val label distribution:\", torch.unique(y_val_tensor_lstm, return_counts=True))"
   ]
  },
  {
   "cell_type": "code",
   "execution_count": 16,
   "id": "bf6cacce",
   "metadata": {},
   "outputs": [
    {
     "name": "stdout",
     "output_type": "stream",
     "text": [
      "Train: 0.27197059988975525 Std: 0.44497495889663696\n",
      "Val: 0.2719718813896179 Std: 0.44497597217559814\n"
     ]
    }
   ],
   "source": [
    "print(\"Train:\", y_train_tensor_lstm.mean().item(), \"Std:\", y_train_tensor_lstm.std().item())\n",
    "print(\"Val:\", y_val_tensor_lstm.mean().item(), \"Std:\", y_val_tensor_lstm.std().item())"
   ]
  },
  {
   "cell_type": "code",
   "execution_count": 27,
   "id": "a7d69d71",
   "metadata": {},
   "outputs": [
    {
     "name": "stdout",
     "output_type": "stream",
     "text": [
      "Input example: tensor([[0.0000, 0.0000, 0.0000, 0.0000, 0.0000, 0.0000, 0.0000, 0.0000, 0.0000,\n",
      "         0.0000, 0.0000, 0.4391, 0.0000, 0.0000, 1.0000, 0.0000, 0.0287, 0.0800,\n",
      "         0.0000, 0.0000, 0.0000, 0.0000, 0.0000, 0.0000, 0.0000, 0.0000, 0.0000,\n",
      "         0.0000, 0.0000, 0.0000, 0.0000, 0.0000, 0.0000, 0.0000, 0.0000, 0.0000,\n",
      "         0.0000, 0.0000, 0.0000, 0.0000, 0.0000, 0.0000, 0.1250, 1.0000, 0.0000,\n",
      "         0.0000]])\n",
      "Target example: tensor([0.])\n"
     ]
    }
   ],
   "source": [
    "print(\"Input example:\", X_train_tensor_lstm[4])\n",
    "print(\"Target example:\", y_train_tensor_lstm[4])"
   ]
  },
  {
   "cell_type": "code",
   "execution_count": null,
   "id": "759b1bed",
   "metadata": {
    "scrolled": true
   },
   "outputs": [],
   "source": [
    "torch.backends.mkldnn.enabled = False\n",
    "\n",
    "# Initialize model, loss, and optimizer\n",
    "input_size = X_train_tensor_lstm.shape[2]\n",
    "model_lstm = LSTMModel(input_size=input_size).to(device)\n",
    "\n",
    "criterion = torch.nn.BCEWithLogitsLoss()\n",
    "optimizer = torch.optim.Adam(model_lstm.parameters(), lr=0.001)\n",
    "\n",
    "print(f\"Using device: {device}\")\n",
    "\n",
    "# Training loop\n",
    "num_epochs = 15\n",
    "start_time_lstm = time.time()\n",
    "\n",
    "\n",
    "for epoch in range(num_epochs):\n",
    "    model_lstm.train()\n",
    "    train_loss = 0.0\n",
    "\n",
    "    for X_batch, y_batch in train_loader:\n",
    "        X_batch, y_batch = X_batch.to(device), y_batch.to(device)\n",
    "\n",
    "        optimizer.zero_grad()\n",
    "        outputs = model_lstm(X_batch)\n",
    "#         print(outputs[:5].detach().cpu().numpy())\n",
    "#         print(y_batch[:5].cpu().numpy())\n",
    "        loss = criterion(outputs, y_batch)\n",
    "        loss.backward()\n",
    "        for name, param in model_lstm.named_parameters():\n",
    "            if param.grad is not None:\n",
    "                print(f\"{name}: {param.grad.abs().mean().item():.6f}\")\n",
    "        optimizer.step()\n",
    "\n",
    "        train_loss += loss.item() * X_batch.size(0)\n",
    "\n",
    "    train_loss /= len(train_loader.dataset)\n",
    "\n",
    "    # Validation\n",
    "    model_lstm.eval()\n",
    "    val_loss = 0.0\n",
    "    with torch.no_grad():\n",
    "        for X_val_batch, y_val_batch in val_loader:\n",
    "            X_val_batch, y_val_batch = X_val_batch.to(device), y_val_batch.to(device)\n",
    "            val_outputs = model_lstm(X_val_batch)\n",
    "            loss = criterion(val_outputs, y_val_batch)\n",
    "            val_loss += loss.item() * X_val_batch.size(0)\n",
    "\n",
    "    val_loss /= len(val_loader.dataset)\n",
    "\n",
    "    print(f\"Epoch [{epoch+1}/{num_epochs}], Train Loss: {train_loss:.4f}, Val Loss: {val_loss:.4f}\")\n",
    "\n",
    "end_time_lstm = time.time()\n",
    "training_duration_lstm = end_time_lstm - start_time_lstm\n",
    "\n",
    "# Save the model\n",
    "torch.save(model_lstm.state_dict(), \"lstm_model.pth\")\n",
    "print(f\"\\nTraining time: {training_duration_lstm:.2f} seconds\")"
   ]
  },
  {
   "cell_type": "code",
   "execution_count": null,
   "id": "403a5a3d",
   "metadata": {},
   "outputs": [],
   "source": [
    "model_lstm.eval()\n",
    "with torch.no_grad():\n",
    "    example_output = model_lstm(X_val_tensor_lstm[:5])\n",
    "    print(\"Sample outputs:\", example_output.squeeze())"
   ]
  },
  {
   "cell_type": "code",
   "execution_count": null,
   "id": "ef19a60d",
   "metadata": {},
   "outputs": [],
   "source": [
    "print(\"Train and Val X equal?\", torch.equal(X_train_tensor_lstm, X_val_tensor_lstm))\n",
    "print(\"Train and Val y equal?\", torch.equal(y_train_tensor_lstm, y_val_tensor_lstm))\n",
    "print(\"Train size:\", len(train_dataset))\n",
    "print(\"Val size:\", len(val_dataset))"
   ]
  },
  {
   "cell_type": "code",
   "execution_count": null,
   "id": "fc1b84f9",
   "metadata": {},
   "outputs": [],
   "source": [
    "# Evaluate on test set\n",
    "model_lstm.eval()\n",
    "all_preds = []\n",
    "all_labels = []\n",
    "\n",
    "with torch.no_grad():\n",
    "    for X_batch, y_batch in test_loader:\n",
    "        X_batch, y_batch = X_batch.to(device), y_batch.to(device)\n",
    "        outputs = model_lstm(X_batch)\n",
    "        predicted = torch.sigmoid(outputs)\n",
    "        predicted_classes = (predicted >= 0.5).float()\n",
    "        \n",
    "        all_preds.append(predicted_classes)\n",
    "        all_labels.append(y_batch)\n",
    "\n",
    "# Concatenate all predictions and labels\n",
    "all_preds = torch.cat(all_preds)\n",
    "all_labels = torch.cat(all_labels)\n",
    "\n",
    "# Accuracy\n",
    "accuracy = (all_preds == all_labels).float().mean()\n",
    "print(f\"Test Accuracy: {accuracy:.4f}\")\n",
    "print(f\"Training duration: {training_duration_lstm:.2f} seconds\")\n"
   ]
  },
  {
   "cell_type": "code",
   "execution_count": null,
   "id": "641dc578",
   "metadata": {},
   "outputs": [],
   "source": []
  },
  {
   "cell_type": "code",
   "execution_count": null,
   "id": "fe7fc2c6",
   "metadata": {},
   "outputs": [],
   "source": []
  }
 ],
 "metadata": {
  "kernelspec": {
   "display_name": "Python 3 (ipykernel)",
   "language": "python",
   "name": "python3"
  },
  "language_info": {
   "codemirror_mode": {
    "name": "ipython",
    "version": 3
   },
   "file_extension": ".py",
   "mimetype": "text/x-python",
   "name": "python",
   "nbconvert_exporter": "python",
   "pygments_lexer": "ipython3",
   "version": "3.11.5"
  }
 },
 "nbformat": 4,
 "nbformat_minor": 5
}
