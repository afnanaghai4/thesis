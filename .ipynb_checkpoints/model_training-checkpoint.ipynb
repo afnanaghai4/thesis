{
 "cells": [
  {
   "cell_type": "code",
   "execution_count": 1,
   "id": "369b307b",
   "metadata": {},
   "outputs": [],
   "source": [
    "#data related imports\n",
    "import pandas as pd\n",
    "import numpy as np\n",
    "from sklearn.model_selection import train_test_split\n",
    "from sklearn.preprocessing import StandardScaler,LabelEncoder,MinMaxScaler\n",
    "\n",
    "# classification model imports\n",
    "from sklearn.svm import LinearSVC\n",
    "from xgboost import XGBClassifier\n",
    "from sklearn.metrics import classification_report, confusion_matrix, accuracy_score\n",
    "\n",
    "# deep learning model imports\n",
    "from keras.callbacks import EarlyStopping\n",
    "import torch\n",
    "import torch.optim as optim\n",
    "from torch.utils.data import TensorDataset, DataLoader\n",
    "import os\n",
    "import tensorflow as tf\n",
    "from tensorflow.keras.models import Sequential\n",
    "from tensorflow.keras.layers import LSTM,Conv1D, MaxPooling1D, Flatten, Dense, Dropout, GRU, LeakyReLU, ReLU, BatchNormalization\n",
    "from tensorflow.keras.optimizers import Adam\n",
    "from tensorflow.keras.losses import BinaryCrossentropy\n",
    "from tensorflow.keras.utils import plot_model,to_categorical\n",
    "from tensorflow.keras.regularizers import l2\n",
    "\n",
    "\n",
    "#visualizations\n",
    "import matplotlib.pyplot as plt\n",
    "from sklearn.decomposition import PCA\n",
    "from mpl_toolkits.mplot3d import Axes3D  # <-- needed for 3D plotting\n",
    "from matplotlib.cm import viridis\n",
    "\n",
    "import time\n",
    "\n",
    "import joblib\n",
    "\n"
   ]
  },
  {
   "cell_type": "code",
   "execution_count": null,
   "id": "1f849c66",
   "metadata": {},
   "outputs": [],
   "source": [
    "df = pd.read_csv('E:/masters material/thesis/datasets/Edge-IIoTset dataset/Selected dataset for ML and DL/ML-EdgeIIoT-dataset.csv', low_memory=False)"
   ]
  },
  {
   "cell_type": "code",
   "execution_count": null,
   "id": "ef464e3f",
   "metadata": {},
   "outputs": [],
   "source": [
    "print(df.isnull().sum())"
   ]
  },
  {
   "cell_type": "code",
   "execution_count": null,
   "id": "6c40c536",
   "metadata": {},
   "outputs": [],
   "source": [
    "print(df.duplicated().sum())"
   ]
  },
  {
   "cell_type": "code",
   "execution_count": null,
   "id": "84776561",
   "metadata": {},
   "outputs": [],
   "source": [
    "#because it takes a lot of time to train the svm on the wholedataset. on internet, it was recommended to train it on a shorter dataset and then test it.\n",
    "\n",
    "df = df.sample(frac=0.35, random_state=42)  # random_state for reproducibility"
   ]
  },
  {
   "cell_type": "code",
   "execution_count": null,
   "id": "d61d4eee",
   "metadata": {},
   "outputs": [],
   "source": [
    "# Drop rows with missing values\n",
    "df.dropna(inplace=True)\n",
    "method_encoder = LabelEncoder()\n",
    "\n",
    "\n",
    "# Fit and transform\n",
    "df['http.request.method_encoded'] = method_encoder.fit_transform(df['http.request.method'].astype(str))\n",
    "df['http.request.version_encoded'] = np.where(df['http.request.version'].astype(str).str.strip() == '0', 0, 1)\n",
    "df['mqtt_topic'] = method_encoder.fit_transform(df['mqtt.topic'].astype(str))\n",
    "df['mqtt_protoname'] = method_encoder.fit_transform(df['mqtt.protoname'].astype(str))\n",
    "df['Attack_type'] = np.where(df['Attack_type'].astype(str).str.strip() == 'normal', 0, 1)\n",
    "\n",
    "# Step 1: Drop object columns\n",
    "X = df.drop(columns=[\n",
    "    'Attack_label','http.request.full_uri', 'http.referer', 'http.file_data', \n",
    "    'tcp.payload', 'frame.time', 'mqtt.msg', 'tcp.options', 'dns.qry.name', \n",
    "    'http.request.method', 'http.request.version', 'mqtt.topic', 'mqtt.protoname','ip.src_host',\n",
    "    'ip.dst_host','arp.dst.proto_ipv4','arp.src.proto_ipv4','http.request.uri.query','tcp.srcport',\n",
    "    'dns.qry.name.len','mqtt.conack.flags'\n",
    "])\n",
    "\n",
    "# Step 2: Set target\n",
    "y = df['Attack_label']\n",
    "\n",
    "# Train-val-test split: 70/20/10\n",
    "\n",
    "# First split: Train 70%, Temp 30%\n",
    "X_train, X_temp, y_train, y_temp = train_test_split(\n",
    "    X, y, test_size=0.3, stratify=y, random_state=42\n",
    ")\n",
    "\n",
    "# Second split: Validation 20% (2/3 of 30%), Test 10% (1/3 of 30%)\n",
    "X_val, X_test, y_val, y_test = train_test_split(\n",
    "    X_temp, y_temp, test_size=1/3, stratify=y_temp, random_state=42\n",
    ")\n",
    "\n",
    "# Reset indices to avoid any overlap when converting to NumPy later\n",
    "X_train = X_train.reset_index(drop=True)\n",
    "X_val = X_val.reset_index(drop=True)\n",
    "X_test = X_test.reset_index(drop=True)\n",
    "\n",
    "y_train = y_train.reset_index(drop=True)\n",
    "y_val = y_val.reset_index(drop=True)\n",
    "y_test = y_test.reset_index(drop=True)\n"
   ]
  },
  {
   "cell_type": "code",
   "execution_count": null,
   "id": "8cb92ade",
   "metadata": {},
   "outputs": [],
   "source": [
    "print(\"Train class distribution:\\n\", y_train.value_counts())\n",
    "print(\"Validation class distribution:\\n\", y_val.value_counts())\n",
    "print(\"Test class distribution:\\n\", y_test.value_counts())"
   ]
  },
  {
   "cell_type": "code",
   "execution_count": null,
   "id": "ea480c64",
   "metadata": {},
   "outputs": [],
   "source": [
    "X.info()"
   ]
  },
  {
   "cell_type": "markdown",
   "id": "77612a01",
   "metadata": {},
   "source": [
    "# Support Vector Machine"
   ]
  },
  {
   "cell_type": "code",
   "execution_count": null,
   "id": "fe7b0044",
   "metadata": {},
   "outputs": [],
   "source": [
    "# Train the SVM model\n",
    "start_time_svm = time.time()\n",
    "\n",
    "svm = LinearSVC( max_iter=1000, C=1.0, verbose=True)\n",
    "svm.fit(X_train, y_train)\n",
    "\n",
    "end_time_svm = time.time()\n",
    "\n",
    "training_duration_svm = end_time_svm - start_time_svm\n",
    "\n",
    "\n",
    "joblib.dump(svm, 'svm_model.joblib')"
   ]
  },
  {
   "cell_type": "code",
   "execution_count": null,
   "id": "77cf336a",
   "metadata": {},
   "outputs": [],
   "source": [
    "# Predict\n",
    "y_pred = svm.predict(X_test)"
   ]
  },
  {
   "cell_type": "code",
   "execution_count": null,
   "id": "3d292148",
   "metadata": {},
   "outputs": [],
   "source": [
    "# Evaluation\n",
    "print(\"Confusion Matrix:\\n\", confusion_matrix(y_test, y_pred))\n",
    "print(\"\\nClassification Report:\\n\", classification_report(y_test, y_pred))\n",
    "print(\"\\nAccuracy Score:\", accuracy_score(y_test, y_pred))\n",
    "print(f\"training duration: {training_duration_svm}\")"
   ]
  },
  {
   "cell_type": "code",
   "execution_count": null,
   "id": "ed908cf6",
   "metadata": {},
   "outputs": [],
   "source": [
    "pca = PCA(n_components=3)\n",
    "X_test_pca = pca.fit_transform(X_test)\n",
    "\n"
   ]
  },
  {
   "cell_type": "code",
   "execution_count": null,
   "id": "b3f87e95",
   "metadata": {},
   "outputs": [],
   "source": [
    "\n",
    "cmap = plt.cm.viridis\n",
    "\n",
    "true_colors = np.array([cmap(float(c)) for c in y_test])\n",
    "pred_colors = np.array([cmap(float(c)) for c in y_pred])\n",
    "\n",
    "wrong_mask = (y_pred != y_test)\n",
    "pred_colors[wrong_mask] = np.array([1, 0, 0, 1])  # red for wrong preds\n"
   ]
  },
  {
   "cell_type": "code",
   "execution_count": null,
   "id": "51b76df0",
   "metadata": {},
   "outputs": [],
   "source": [
    "# Plot side by side\n",
    "fig = plt.figure(figsize=(16,7))\n",
    "\n",
    "# True labels plot\n",
    "ax1 = fig.add_subplot(121, projection='3d')\n",
    "scatter1 = ax1.scatter(X_test_pca[:, 0], X_test_pca[:, 1], X_test_pca[:, 2], c=true_colors, alpha=0.8)\n",
    "ax1.set_title(\"True Labels (Viridis)\")\n",
    "ax1.set_xlabel(\"PCA 1\")\n",
    "ax1.set_ylabel(\"PCA 2\")\n",
    "ax1.set_zlabel(\"PCA 3\")\n",
    "\n",
    "# Predicted labels plot with red wrong preds\n",
    "ax2 = fig.add_subplot(122, projection='3d')\n",
    "scatter2 = ax2.scatter(X_test_pca[:, 0], X_test_pca[:, 1], X_test_pca[:, 2], c=pred_colors, alpha=0.8)\n",
    "ax2.set_title(\"Predicted Labels (Viridis) with Wrong Predictions in Red\")\n",
    "ax2.set_xlabel(\"PCA 1\")\n",
    "ax2.set_ylabel(\"PCA 2\")\n",
    "ax2.set_zlabel(\"PCA 3\")\n",
    "\n",
    "plt.show()"
   ]
  },
  {
   "cell_type": "markdown",
   "id": "cba04233",
   "metadata": {},
   "source": [
    "# decision tree classifier"
   ]
  },
  {
   "cell_type": "code",
   "execution_count": null,
   "id": "c68fa3fa",
   "metadata": {},
   "outputs": [],
   "source": [
    "print(\"Train class distribution:\\n\", y_train.value_counts())\n",
    "print(\"Validation class distribution:\\n\", y_val.value_counts())\n",
    "print(\"Test class distribution:\\n\", y_test.value_counts())"
   ]
  },
  {
   "cell_type": "code",
   "execution_count": null,
   "id": "73a394c0",
   "metadata": {},
   "outputs": [],
   "source": [
    "print(\"X shape:\", X.shape)\n",
    "print(\"X columns:\", X.columns.tolist())"
   ]
  },
  {
   "cell_type": "code",
   "execution_count": null,
   "id": "267241ad",
   "metadata": {},
   "outputs": [],
   "source": [
    "\n",
    "\n",
    "\n",
    "model = XGBClassifier(\n",
    "    n_estimators=100,\n",
    "    learning_rate=0.1,\n",
    "    max_depth=6,\n",
    "    subsample=0.8,\n",
    "    colsample_bytree=0.8,\n",
    "    random_state=42,\n",
    "    use_label_encoder=False,       # Disable the label encoder warning\n",
    "    objective='binary:logistic',   # Important: binary classification objective\n",
    "    eval_metric='logloss'          # Evaluation metric\n",
    ")\n",
    "\n",
    "# Start timer\n",
    "start_time = time.time()\n",
    "\n",
    "model.fit(\n",
    "    X_train,\n",
    "    y_train,\n",
    "    eval_set=[(X_val, y_val)],\n",
    "    verbose=True  # Optional: shows training log\n",
    ")\n",
    "\n",
    "# End timer\n",
    "end_time = time.time()\n",
    "\n",
    "model.save_model(\"xgb_model.json\")\n",
    "\n",
    "# upload_file(\n",
    "#     path_or_fileobj=\"xgb_model.json\",  # or \"xgb_model.pkl\"\n",
    "#     path_in_repo=\"xgb_model.json\",     # File name in the repo\n",
    "#     repo_id=\"ScHemer34/DT_XGBoost\",\n",
    "#     repo_type=\"model\"\n",
    "# )\n"
   ]
  },
  {
   "cell_type": "code",
   "execution_count": null,
   "id": "e1b2fe43",
   "metadata": {},
   "outputs": [],
   "source": [
    "y_pred = model.predict(X_test)\n",
    "\n",
    "print(\"Test Accuracy:\", accuracy_score(y_test, y_pred))\n",
    "print(classification_report(y_test, y_pred, target_names=['normal', 'attack']))\n",
    "\n",
    "# Print duration\n",
    "training_duration = end_time - start_time\n",
    "print(f\"\\n✅ Model trained in {training_duration:.2f} seconds\")"
   ]
  },
  {
   "cell_type": "markdown",
   "id": "8533c351",
   "metadata": {},
   "source": [
    "# Dataset for Deep Learning Models"
   ]
  },
  {
   "cell_type": "code",
   "execution_count": 2,
   "id": "2b16554e",
   "metadata": {},
   "outputs": [
    {
     "name": "stderr",
     "output_type": "stream",
     "text": [
      "C:\\Users\\afnan\\AppData\\Local\\Temp\\ipykernel_9736\\2820990379.py:1: DtypeWarning: Columns (2,3,6,11,13,14,15,16,17,31,32,34,39,45,51,54,55) have mixed types. Specify dtype option on import or set low_memory=False.\n",
      "  df_fnn = pd.read_csv(\"E:/masters material/thesis/datasets/Edge-IIoTset dataset/Selected dataset for ML and DL/DNN-EdgeIIoT-dataset.csv\")  # adjust path\n"
     ]
    }
   ],
   "source": [
    "df_fnn = pd.read_csv(\"E:/masters material/thesis/datasets/Edge-IIoTset dataset/Selected dataset for ML and DL/DNN-EdgeIIoT-dataset.csv\")  # adjust path\n"
   ]
  },
  {
   "cell_type": "code",
   "execution_count": 3,
   "id": "4721237a",
   "metadata": {},
   "outputs": [
    {
     "data": {
      "text/plain": [
       "frame.time            0\n",
       "ip.src_host           0\n",
       "ip.dst_host           0\n",
       "arp.dst.proto_ipv4    0\n",
       "arp.opcode            0\n",
       "                     ..\n",
       "mbtcp.len             0\n",
       "mbtcp.trans_id        0\n",
       "mbtcp.unit_id         0\n",
       "Attack_label          0\n",
       "Attack_type           0\n",
       "Length: 63, dtype: int64"
      ]
     },
     "execution_count": 3,
     "metadata": {},
     "output_type": "execute_result"
    }
   ],
   "source": [
    "df_fnn.isnull().sum()"
   ]
  },
  {
   "cell_type": "code",
   "execution_count": 4,
   "id": "2d07d8b9",
   "metadata": {},
   "outputs": [],
   "source": [
    "    # Drop rows with missing values\n",
    "    # df_fnn.dropna(inplace=True)\n",
    "\n",
    "    #encoding important columns\n",
    "    # Initialize encoder\n",
    "    method_encoder = LabelEncoder()\n",
    "\n",
    "    # Fit and transform\n",
    "    df_fnn['http.request.method_encoded'] = method_encoder.fit_transform(df_fnn['http.request.method'].astype(str))\n",
    "    df_fnn['http.request.version_encoded'] = np.where(df_fnn['http.request.version'].astype(str).str.strip() == '0', 0, 1)\n",
    "    df_fnn['mqtt_topic'] = method_encoder.fit_transform(df_fnn['mqtt.topic'].astype(str))\n",
    "    df_fnn['mqtt_protoname'] = method_encoder.fit_transform(df_fnn['mqtt.protoname'].astype(str))\n",
    "    df_fnn['Attack_label'] = np.where(df_fnn['Attack_label'].astype(str).str.strip() == 'normal', 0, 1)\n",
    "    df_fnn['Attack_type_encoded'] = method_encoder.fit_transform(df_fnn['Attack_type'].astype(str))\n",
    "\n",
    "    # Step 2: Set target\n",
    "    y_fnn = df_fnn['Attack_type_encoded']\n",
    "\n",
    "    # Now drop object and unnecessary columns\n",
    "    X_fnn = df_fnn.drop(columns=[\n",
    "        'Attack_type', 'Attack_type_encoded', 'Attack_label', 'http.request.full_uri', 'http.referer', 'http.file_data', \n",
    "        'tcp.payload', 'frame.time', 'mqtt.msg', 'tcp.options', 'dns.qry.name', \n",
    "        'http.request.method', 'http.request.version', 'mqtt.topic', 'mqtt.protoname','ip.src_host',\n",
    "        'ip.dst_host','arp.dst.proto_ipv4','arp.src.proto_ipv4','http.request.uri.query','tcp.srcport',\n",
    "        'dns.qry.name.len','mqtt.conack.flags'\n",
    "    ])"
   ]
  },
  {
   "cell_type": "code",
   "execution_count": 5,
   "id": "8ad22bc3",
   "metadata": {},
   "outputs": [],
   "source": [
    "\n",
    "# First split: Train 80%, Temp 20%\n",
    "X_train_fnn, X_temp_fnn, y_train_fnn, y_temp_fnn = train_test_split(\n",
    "    X_fnn, y_fnn, test_size=0.2, stratify=y_fnn, random_state=42\n",
    ")\n",
    "\n",
    "# Second split: Validation 10% (1/2 of 20%), Test 10% (1/2 of 20%)\n",
    "X_val_fnn, X_test_fnn, y_val_fnn, y_test_fnn = train_test_split(\n",
    "    X_temp_fnn, y_temp_fnn, test_size=1/2, stratify=y_temp_fnn, random_state=42\n",
    ")\n",
    "\n",
    "# Reset indices to avoid any overlap when converting to NumPy later\n",
    "X_train_fnn = X_train_fnn.reset_index(drop=True)\n",
    "X_val_fnn = X_val_fnn.reset_index(drop=True)\n",
    "X_test_fnn = X_test_fnn.reset_index(drop=True)\n",
    "\n",
    "y_train_fnn = y_train_fnn.reset_index(drop=True)\n",
    "y_val_fnn = y_val_fnn.reset_index(drop=True)\n",
    "y_test_fnn = y_test_fnn.reset_index(drop=True)\n"
   ]
  },
  {
   "cell_type": "code",
   "execution_count": 6,
   "id": "2188f100",
   "metadata": {},
   "outputs": [
    {
     "name": "stdout",
     "output_type": "stream",
     "text": [
      "Train/Val Overlap: 39682\n"
     ]
    }
   ],
   "source": [
    "overlap = set(map(tuple, X_train_fnn.values)) & set(map(tuple, X_val_fnn.values))\n",
    "print(f\"Train/Val Overlap: {len(overlap)}\")  # Should be 0"
   ]
  },
  {
   "cell_type": "code",
   "execution_count": 7,
   "id": "7eaba97d",
   "metadata": {},
   "outputs": [
    {
     "name": "stdout",
     "output_type": "stream",
     "text": [
      "Train class distribution:\n",
      " Attack_type_encoded\n",
      "7     1292514\n",
      "4       97254\n",
      "2       93149\n",
      "11      40962\n",
      "8       40122\n",
      "13      40088\n",
      "3       40050\n",
      "1       39929\n",
      "12      30107\n",
      "0       19890\n",
      "9       18051\n",
      "14      12732\n",
      "10       8740\n",
      "6         971\n",
      "5         801\n",
      "Name: count, dtype: int64\n",
      "Validation class distribution:\n",
      " Attack_type_encoded\n",
      "7     161564\n",
      "4      12157\n",
      "2      11643\n",
      "11      5120\n",
      "8       5015\n",
      "13      5011\n",
      "3       5006\n",
      "1       4991\n",
      "12      3763\n",
      "0       2486\n",
      "9       2257\n",
      "14      1592\n",
      "10      1093\n",
      "6        122\n",
      "5        100\n",
      "Name: count, dtype: int64\n",
      "Test class distribution:\n",
      " Attack_type_encoded\n",
      "7     161565\n",
      "4      12157\n",
      "2      11644\n",
      "11      5121\n",
      "8       5016\n",
      "13      5011\n",
      "3       5006\n",
      "1       4991\n",
      "12      3764\n",
      "0       2486\n",
      "9       2256\n",
      "14      1591\n",
      "10      1092\n",
      "6        121\n",
      "5        100\n",
      "Name: count, dtype: int64\n"
     ]
    }
   ],
   "source": [
    "print(\"Train class distribution:\\n\", y_train_fnn.value_counts())\n",
    "print(\"Validation class distribution:\\n\", y_val_fnn.value_counts())\n",
    "print(\"Test class distribution:\\n\", y_test_fnn.value_counts())"
   ]
  },
  {
   "cell_type": "code",
   "execution_count": 8,
   "id": "780d47c2",
   "metadata": {},
   "outputs": [
    {
     "data": {
      "text/plain": [
       "Attack_type_encoded\n",
       "7     1615643\n",
       "4      121568\n",
       "2      116436\n",
       "11      51203\n",
       "8       50153\n",
       "13      50110\n",
       "3       50062\n",
       "1       49911\n",
       "12      37634\n",
       "0       24862\n",
       "9       22564\n",
       "14      15915\n",
       "10      10925\n",
       "6        1214\n",
       "5        1001\n",
       "Name: count, dtype: int64"
      ]
     },
     "execution_count": 8,
     "metadata": {},
     "output_type": "execute_result"
    }
   ],
   "source": [
    "df_fnn['Attack_type_encoded'].value_counts()"
   ]
  },
  {
   "cell_type": "code",
   "execution_count": 9,
   "id": "7f17d67c",
   "metadata": {},
   "outputs": [
    {
     "name": "stdout",
     "output_type": "stream",
     "text": [
      "   Attack_label\n",
      "0             1\n",
      "1             1\n",
      "2             1\n",
      "3             1\n",
      "4             1\n",
      "5             1\n",
      "6             1\n",
      "7             1\n",
      "8             1\n",
      "9             1\n"
     ]
    }
   ],
   "source": [
    "print(df_fnn[['Attack_label']].head(10))"
   ]
  },
  {
   "cell_type": "markdown",
   "id": "1cd9d6ea",
   "metadata": {},
   "source": [
    "# Feed Forward Neural Network"
   ]
  },
  {
   "cell_type": "code",
   "execution_count": null,
   "id": "85c6ecf6",
   "metadata": {},
   "outputs": [],
   "source": [
    "# Define the model\n",
    "def build_fnn_model(input_size):\n",
    "    model = Sequential()\n",
    "    model.add(Dense(45, input_dim=input_size,name=\"Hidden_Layer_1\", kernel_regularizer=l2(0.25)))  \n",
    "    model.add(LeakyReLU(alpha=0.01))\n",
    "    model.add(Dropout(0.1))\n",
    "#     model.add(Dense(32, input_dim=input_size, kernel_regularizer=l2(0.001)))\n",
    "#     model.add(LeakyReLU(alpha=0.01))\n",
    "#     model.add(Dropout(0.2))\n",
    "    model.add(Dense(16, input_dim=input_size,name=\"Hidden_Layer_2\",kernel_regularizer=l2(0.01)))\n",
    "    model.add(LeakyReLU(alpha=0.01))\n",
    "    model.add(Dropout(0.1))\n",
    "    model.add(Dense(1,activation=\"sigmoid\",name=\"Output_layer\")) # No sigmoid here if using BCEWithLogitsLoss\n",
    "    return model\n"
   ]
  },
  {
   "cell_type": "code",
   "execution_count": null,
   "id": "1820ff5f",
   "metadata": {},
   "outputs": [],
   "source": [
    "#normalize the data\n",
    "scaler = StandardScaler()\n",
    "X_train_fnn = scaler.fit_transform(X_train_fnn)\n",
    "X_val_fnn = scaler.transform(X_val_fnn)\n",
    "X_test_fnn = scaler.transform(X_test_fnn)\n",
    "\n",
    "\n",
    "# convert dataframe to numpy arrays\n",
    "y_train_tensor_fnn = y_train_fnn.to_numpy()\n",
    "\n",
    "y_val_tensor_fnn = y_val_fnn.to_numpy()\n",
    "\n",
    "y_test_tensor_fnn = y_test_fnn.to_numpy()\n",
    "\n"
   ]
  },
  {
   "cell_type": "code",
   "execution_count": null,
   "id": "daef1a76",
   "metadata": {},
   "outputs": [],
   "source": [
    "model.summary()"
   ]
  },
  {
   "cell_type": "code",
   "execution_count": null,
   "id": "3986e333",
   "metadata": {},
   "outputs": [],
   "source": [
    "# Start timer\n",
    "start_time_fnn = time.time()\n",
    "\n",
    "# Build model\n",
    "input_size = X_train_fnn.shape[1]\n",
    "model = build_fnn_model(input_size)\n",
    "\n",
    "# Compile with BCEWithLogitsLoss equivalent\n",
    "loss_fn = tf.keras.losses.BinaryCrossentropy(from_logits=True)\n",
    "optimizer = Adam()\n",
    "model.compile(optimizer=optimizer, loss=loss_fn, metrics=['accuracy'])\n",
    "\n",
    "\n",
    "\n",
    "history = model.fit(\n",
    "    X_train_fnn, y_train_tensor_fnn,\n",
    "    validation_data=(X_val_fnn, y_val_tensor_fnn),\n",
    "    epochs=15,\n",
    "    batch_size=32,\n",
    "    shuffle=True,\n",
    "    callbacks=None,\n",
    "    class_weight=None,\n",
    "    verbose=1\n",
    ")\n",
    "\n",
    "\n",
    "# End timer\n",
    "end_time_fnn = time.time()\n",
    "\n",
    "\n",
    "\n",
    "# Duration\n",
    "training_duration_fnn = end_time_fnn - start_time_fnn\n",
    "print(f\"⏱️ Model trained in {training_duration_fnn:.2f} seconds\")\n"
   ]
  },
  {
   "cell_type": "code",
   "execution_count": null,
   "id": "6a6438c8",
   "metadata": {},
   "outputs": [],
   "source": [
    "# Save the model\n",
    "model.save(\"fnn_model_tf.h5\")"
   ]
  },
  {
   "cell_type": "code",
   "execution_count": null,
   "id": "3f23467d",
   "metadata": {},
   "outputs": [],
   "source": [
    "# Evaluate\n",
    "loss, accuracy = model.evaluate(X_test_fnn, y_test_tensor_fnn, verbose=1)\n",
    "print(f\"\\n🧪 Test Accuracy: {accuracy:.4f}\")\n"
   ]
  },
  {
   "cell_type": "code",
   "execution_count": null,
   "id": "6c4358d3",
   "metadata": {},
   "outputs": [],
   "source": [
    "logits = model.predict(X_test_fnn)\n",
    "preds = (logits > 0.5).astype(int).flatten()  \n",
    "# Ground truth\n",
    "y_true = y_test_tensor_fnn.flatten()"
   ]
  },
  {
   "cell_type": "code",
   "execution_count": null,
   "id": "05a8334a",
   "metadata": {},
   "outputs": [],
   "source": [
    "# Get the raw model outputs (logits)\n",
    "logits = model.predict(X_test_fnn)\n",
    "\n",
    "\n",
    "# Convert probabilities to binary predictions\n",
    "preds = (probs > 0.5).astype(int).flatten()\n",
    "\n",
    "# Ground truth\n",
    "y_true = y_test_tensor_fnn.flatten()"
   ]
  },
  {
   "cell_type": "code",
   "execution_count": null,
   "id": "53ad0efe",
   "metadata": {},
   "outputs": [],
   "source": [
    "cm = confusion_matrix(y_true, preds)\n",
    "print(\"Confusion Matrix:\")\n",
    "print(cm)"
   ]
  },
  {
   "cell_type": "code",
   "execution_count": null,
   "id": "0f0a5d14",
   "metadata": {},
   "outputs": [],
   "source": [
    "report = classification_report(y_true, preds, digits=4)\n",
    "print(\"\\nClassification Report:\")\n",
    "print(report)"
   ]
  },
  {
   "cell_type": "markdown",
   "id": "8b6143e9",
   "metadata": {},
   "source": [
    "# Convolutional Neural Network"
   ]
  },
  {
   "cell_type": "code",
   "execution_count": null,
   "id": "0f63de91",
   "metadata": {},
   "outputs": [],
   "source": [
    "# Convert to numpy arrays\n",
    "# X_train = X_train_fnn.to_numpy()\n",
    "# X_val = X_val_fnn.to_numpy()\n",
    "# X_test = X_test_fnn.to_numpy()\n",
    "\n",
    "y_train = y_train_fnn.to_numpy()\n",
    "y_val = y_val_fnn.to_numpy()\n",
    "y_test = y_test_fnn.to_numpy()"
   ]
  },
  {
   "cell_type": "code",
   "execution_count": null,
   "id": "483653ed",
   "metadata": {},
   "outputs": [],
   "source": [
    "# Normalize features\n",
    "scaler = MinMaxScaler()\n",
    "X_train_scaled = scaler.fit_transform(X_train)\n",
    "X_val_scaled = scaler.transform(X_val)\n",
    "X_test_scaled = scaler.transform(X_test)"
   ]
  },
  {
   "cell_type": "code",
   "execution_count": null,
   "id": "f90e7a2d",
   "metadata": {},
   "outputs": [],
   "source": [
    "X_train_cnn = X_train_fnn.reshape((X_train_fnn.shape[0], X_train_fnn.shape[1], 1))\n",
    "X_val_cnn = X_val_fnn.reshape((X_val_fnn.shape[0], X_val_fnn.shape[1], 1))\n",
    "X_test_cnn = X_test_fnn.reshape((X_test_fnn.shape[0], X_test_fnn.shape[1], 1))"
   ]
  },
  {
   "cell_type": "code",
   "execution_count": null,
   "id": "6e153f0a",
   "metadata": {},
   "outputs": [],
   "source": [
    "# Build CNN model\n",
    "model = Sequential([\n",
    "    Conv1D(45, kernel_size=3, activation='relu', input_shape=(X_train_cnn.shape[1], 1),kernel_regularizer=l2(0.2)),\n",
    "    MaxPooling1D(pool_size=2),\n",
    "    Dropout(0.2),\n",
    "    Flatten(),\n",
    "    Dense(32, activation='relu',kernel_regularizer=l2(0.05)),\n",
    "    Dropout(0.2),\n",
    "    Dense(1, activation='sigmoid',kernel_regularizer=l2(0.01))  # Use 1 and sigmoid for binary classification\n",
    "])\n",
    "\n",
    "model.compile(optimizer=Adam(), loss='binary_crossentropy', metrics=['accuracy'])\n"
   ]
  },
  {
   "cell_type": "code",
   "execution_count": null,
   "id": "01166f78",
   "metadata": {},
   "outputs": [],
   "source": [
    "# Train model\n",
    "start_time_cnn = time.time()\n",
    "\n",
    "history = model.fit(\n",
    "    X_train_cnn, y_train,\n",
    "    validation_data=(X_val_cnn, y_val),\n",
    "    epochs=15,\n",
    "    batch_size=32,\n",
    "    shuffle=True,\n",
    "    callbacks=None,\n",
    "    class_weight=None,\n",
    "    verbose=1\n",
    ")\n",
    "end_time_cnn = time.time()\n",
    "\n",
    "training_duration_cnn = end_time_cnn - start_time_cnn\n"
   ]
  },
  {
   "cell_type": "code",
   "execution_count": null,
   "id": "aefdcc09",
   "metadata": {},
   "outputs": [],
   "source": [
    "print(f\"⏱️ Model trained in {training_duration_cnn:.2f} seconds\")"
   ]
  },
  {
   "cell_type": "code",
   "execution_count": null,
   "id": "f106bed3",
   "metadata": {},
   "outputs": [],
   "source": [
    "# Evaluate on test data\n",
    "test_loss, test_accuracy = model.evaluate(X_test_cnn, y_test)\n",
    "print(f\"\\nTest Accuracy: {test_accuracy:.4f}\")\n",
    "print(f\"Test Loss: {test_loss:.4f}\")"
   ]
  },
  {
   "cell_type": "code",
   "execution_count": null,
   "id": "27af410d",
   "metadata": {},
   "outputs": [],
   "source": [
    "# Predictions\n",
    "y_pred_prob = model.predict(X_test_cnn)\n",
    "y_pred = (y_pred_prob > 0.5).astype(int)\n"
   ]
  },
  {
   "cell_type": "code",
   "execution_count": null,
   "id": "6043b8da",
   "metadata": {},
   "outputs": [],
   "source": [
    "# Classification report\n",
    "print(\"\\nClassification Report:\\n\", classification_report(y_test, y_pred))"
   ]
  },
  {
   "cell_type": "code",
   "execution_count": null,
   "id": "82008bc8",
   "metadata": {},
   "outputs": [],
   "source": [
    "# Confusion matrix\n",
    "conf_matrix = confusion_matrix(y_test, y_pred)"
   ]
  },
  {
   "cell_type": "code",
   "execution_count": null,
   "id": "5ba18715",
   "metadata": {},
   "outputs": [],
   "source": [
    "# Plot training/validation loss\n",
    "plt.figure(figsize=(12, 5))\n",
    "plt.subplot(1, 2, 1)\n",
    "plt.plot(history.history['loss'], label=\"Train Loss\")\n",
    "plt.plot(history.history['val_loss'], label=\"Val Loss\")\n",
    "plt.title(\"Loss Over Epochs\")\n",
    "plt.xlabel(\"Epoch\")\n",
    "plt.ylabel(\"Loss\")\n",
    "plt.legend()"
   ]
  },
  {
   "cell_type": "code",
   "execution_count": null,
   "id": "2a24952c",
   "metadata": {},
   "outputs": [],
   "source": [
    "import seaborn as sns\n",
    "# Plot confusion matrix\n",
    "plt.subplot(1, 2, 2)\n",
    "sns.heatmap(conf_matrix, annot=True, fmt='d', cmap=\"Blues\")\n",
    "plt.title(\"Confusion Matrix\")\n",
    "plt.xlabel(\"Predicted\")\n",
    "plt.ylabel(\"Actual\")\n",
    "\n",
    "plt.tight_layout()\n",
    "plt.show()"
   ]
  },
  {
   "cell_type": "code",
   "execution_count": null,
   "id": "25db5a09",
   "metadata": {},
   "outputs": [],
   "source": [
    "# Save the model to an HDF5 file\n",
    "model.save(\"cnn_model.h5\")"
   ]
  },
  {
   "cell_type": "markdown",
   "id": "10160086",
   "metadata": {},
   "source": [
    "# Long Short Term Memory\n"
   ]
  },
  {
   "cell_type": "code",
   "execution_count": 10,
   "id": "b4a42390",
   "metadata": {},
   "outputs": [],
   "source": [
    "timesteps = 1\n",
    "\n",
    "num_features = X_train_fnn.shape[1]\n",
    "\n",
    "# --- Step 1: Convert DataFrames to NumPy Arrays ---\n",
    "X_train_fnn = X_train_fnn.to_numpy()\n",
    "y_train_lstm = y_train_fnn.to_numpy().reshape(-1, 1)\n",
    "\n",
    "X_val_fnn = X_val_fnn.to_numpy()\n",
    "y_val_lstm = y_val_fnn.to_numpy().reshape(-1, 1)\n",
    "\n",
    "X_test_fnn = X_test_fnn.to_numpy()  # Convert to numpy array\n",
    "y_test_lstm = y_test_fnn.to_numpy().reshape(-1, 1)\n",
    "\n",
    "# --- Step 2: Scale Features ---\n",
    "scaler = MinMaxScaler()\n",
    "X_train_scaled = scaler.fit_transform(X_train_fnn)\n",
    "X_val_scaled = scaler.transform(X_val_fnn)  # use transform only on val\n",
    "X_test_scaled = scaler.transform(X_test_fnn)  # use transform only on val\n",
    "\n",
    "\n",
    "\n",
    "X_train_lstm = X_train_scaled.reshape(-1, timesteps, num_features)\n",
    "X_val_lstm = X_val_scaled.reshape(-1, timesteps, num_features)\n",
    "X_test_lstm = X_test_scaled.reshape(-1, timesteps, num_features)\n",
    "\n",
    "y_train_lstm = to_categorical(y_train_fnn)\n",
    "y_val_lstm = to_categorical(y_val_fnn)\n",
    "y_test_lstm = to_categorical(y_test_fnn)"
   ]
  },
  {
   "cell_type": "code",
   "execution_count": 14,
   "id": "46eb1e94",
   "metadata": {},
   "outputs": [
    {
     "name": "stderr",
     "output_type": "stream",
     "text": [
      "C:\\Users\\afnan\\anaconda3\\Lib\\site-packages\\keras\\src\\layers\\rnn\\rnn.py:204: UserWarning: Do not pass an `input_shape`/`input_dim` argument to a layer. When using Sequential models, prefer using an `Input(shape)` object as the first layer in the model instead.\n",
      "  super().__init__(**kwargs)\n"
     ]
    },
    {
     "data": {
      "text/html": [
       "<pre style=\"white-space:pre;overflow-x:auto;line-height:normal;font-family:Menlo,'DejaVu Sans Mono',consolas,'Courier New',monospace\"><span style=\"font-weight: bold\">Model: \"sequential\"</span>\n",
       "</pre>\n"
      ],
      "text/plain": [
       "\u001b[1mModel: \"sequential\"\u001b[0m\n"
      ]
     },
     "metadata": {},
     "output_type": "display_data"
    },
    {
     "data": {
      "text/html": [
       "<pre style=\"white-space:pre;overflow-x:auto;line-height:normal;font-family:Menlo,'DejaVu Sans Mono',consolas,'Courier New',monospace\">┏━━━━━━━━━━━━━━━━━━━━━━━━━━━━━━━━━━━━━━┳━━━━━━━━━━━━━━━━━━━━━━━━━━━━━┳━━━━━━━━━━━━━━━━━┓\n",
       "┃<span style=\"font-weight: bold\"> Layer (type)                         </span>┃<span style=\"font-weight: bold\"> Output Shape                </span>┃<span style=\"font-weight: bold\">         Param # </span>┃\n",
       "┡━━━━━━━━━━━━━━━━━━━━━━━━━━━━━━━━━━━━━━╇━━━━━━━━━━━━━━━━━━━━━━━━━━━━━╇━━━━━━━━━━━━━━━━━┩\n",
       "│ lstm (<span style=\"color: #0087ff; text-decoration-color: #0087ff\">LSTM</span>)                          │ (<span style=\"color: #00d7ff; text-decoration-color: #00d7ff\">None</span>, <span style=\"color: #00af00; text-decoration-color: #00af00\">1</span>, <span style=\"color: #00af00; text-decoration-color: #00af00\">128</span>)              │          <span style=\"color: #00af00; text-decoration-color: #00af00\">89,088</span> │\n",
       "├──────────────────────────────────────┼─────────────────────────────┼─────────────────┤\n",
       "│ lstm_1 (<span style=\"color: #0087ff; text-decoration-color: #0087ff\">LSTM</span>)                        │ (<span style=\"color: #00d7ff; text-decoration-color: #00d7ff\">None</span>, <span style=\"color: #00af00; text-decoration-color: #00af00\">1</span>, <span style=\"color: #00af00; text-decoration-color: #00af00\">64</span>)               │          <span style=\"color: #00af00; text-decoration-color: #00af00\">49,408</span> │\n",
       "├──────────────────────────────────────┼─────────────────────────────┼─────────────────┤\n",
       "│ lstm_2 (<span style=\"color: #0087ff; text-decoration-color: #0087ff\">LSTM</span>)                        │ (<span style=\"color: #00d7ff; text-decoration-color: #00d7ff\">None</span>, <span style=\"color: #00af00; text-decoration-color: #00af00\">32</span>)                  │          <span style=\"color: #00af00; text-decoration-color: #00af00\">12,416</span> │\n",
       "├──────────────────────────────────────┼─────────────────────────────┼─────────────────┤\n",
       "│ dense (<span style=\"color: #0087ff; text-decoration-color: #0087ff\">Dense</span>)                        │ (<span style=\"color: #00d7ff; text-decoration-color: #00d7ff\">None</span>, <span style=\"color: #00af00; text-decoration-color: #00af00\">1</span>)                   │              <span style=\"color: #00af00; text-decoration-color: #00af00\">33</span> │\n",
       "└──────────────────────────────────────┴─────────────────────────────┴─────────────────┘\n",
       "</pre>\n"
      ],
      "text/plain": [
       "┏━━━━━━━━━━━━━━━━━━━━━━━━━━━━━━━━━━━━━━┳━━━━━━━━━━━━━━━━━━━━━━━━━━━━━┳━━━━━━━━━━━━━━━━━┓\n",
       "┃\u001b[1m \u001b[0m\u001b[1mLayer (type)                        \u001b[0m\u001b[1m \u001b[0m┃\u001b[1m \u001b[0m\u001b[1mOutput Shape               \u001b[0m\u001b[1m \u001b[0m┃\u001b[1m \u001b[0m\u001b[1m        Param #\u001b[0m\u001b[1m \u001b[0m┃\n",
       "┡━━━━━━━━━━━━━━━━━━━━━━━━━━━━━━━━━━━━━━╇━━━━━━━━━━━━━━━━━━━━━━━━━━━━━╇━━━━━━━━━━━━━━━━━┩\n",
       "│ lstm (\u001b[38;5;33mLSTM\u001b[0m)                          │ (\u001b[38;5;45mNone\u001b[0m, \u001b[38;5;34m1\u001b[0m, \u001b[38;5;34m128\u001b[0m)              │          \u001b[38;5;34m89,088\u001b[0m │\n",
       "├──────────────────────────────────────┼─────────────────────────────┼─────────────────┤\n",
       "│ lstm_1 (\u001b[38;5;33mLSTM\u001b[0m)                        │ (\u001b[38;5;45mNone\u001b[0m, \u001b[38;5;34m1\u001b[0m, \u001b[38;5;34m64\u001b[0m)               │          \u001b[38;5;34m49,408\u001b[0m │\n",
       "├──────────────────────────────────────┼─────────────────────────────┼─────────────────┤\n",
       "│ lstm_2 (\u001b[38;5;33mLSTM\u001b[0m)                        │ (\u001b[38;5;45mNone\u001b[0m, \u001b[38;5;34m32\u001b[0m)                  │          \u001b[38;5;34m12,416\u001b[0m │\n",
       "├──────────────────────────────────────┼─────────────────────────────┼─────────────────┤\n",
       "│ dense (\u001b[38;5;33mDense\u001b[0m)                        │ (\u001b[38;5;45mNone\u001b[0m, \u001b[38;5;34m1\u001b[0m)                   │              \u001b[38;5;34m33\u001b[0m │\n",
       "└──────────────────────────────────────┴─────────────────────────────┴─────────────────┘\n"
      ]
     },
     "metadata": {},
     "output_type": "display_data"
    },
    {
     "data": {
      "text/html": [
       "<pre style=\"white-space:pre;overflow-x:auto;line-height:normal;font-family:Menlo,'DejaVu Sans Mono',consolas,'Courier New',monospace\"><span style=\"font-weight: bold\"> Total params: </span><span style=\"color: #00af00; text-decoration-color: #00af00\">150,945</span> (589.63 KB)\n",
       "</pre>\n"
      ],
      "text/plain": [
       "\u001b[1m Total params: \u001b[0m\u001b[38;5;34m150,945\u001b[0m (589.63 KB)\n"
      ]
     },
     "metadata": {},
     "output_type": "display_data"
    },
    {
     "data": {
      "text/html": [
       "<pre style=\"white-space:pre;overflow-x:auto;line-height:normal;font-family:Menlo,'DejaVu Sans Mono',consolas,'Courier New',monospace\"><span style=\"font-weight: bold\"> Trainable params: </span><span style=\"color: #00af00; text-decoration-color: #00af00\">150,945</span> (589.63 KB)\n",
       "</pre>\n"
      ],
      "text/plain": [
       "\u001b[1m Trainable params: \u001b[0m\u001b[38;5;34m150,945\u001b[0m (589.63 KB)\n"
      ]
     },
     "metadata": {},
     "output_type": "display_data"
    },
    {
     "data": {
      "text/html": [
       "<pre style=\"white-space:pre;overflow-x:auto;line-height:normal;font-family:Menlo,'DejaVu Sans Mono',consolas,'Courier New',monospace\"><span style=\"font-weight: bold\"> Non-trainable params: </span><span style=\"color: #00af00; text-decoration-color: #00af00\">0</span> (0.00 B)\n",
       "</pre>\n"
      ],
      "text/plain": [
       "\u001b[1m Non-trainable params: \u001b[0m\u001b[38;5;34m0\u001b[0m (0.00 B)\n"
      ]
     },
     "metadata": {},
     "output_type": "display_data"
    }
   ],
   "source": [
    "model = Sequential()\n",
    "model.add(LSTM(units = 128, return_sequences = True , input_shape=(timesteps,num_features), activation='tanh'))\n",
    "model.add(LSTM(units = 64, activation = 'tanh', return_sequences = True))\n",
    "model.add(LSTM(units = 32, activation = 'tanh'))\n",
    "model.add(Dense(1, activation = 'sigmoid'))\n",
    "model.compile(loss = 'categorical_crossentropy', optimizer = 'adam', metrics = ['accuracy'])\n",
    "\n",
    "model.summary()"
   ]
  },
  {
   "cell_type": "code",
   "execution_count": 11,
   "id": "85b6aaa1",
   "metadata": {},
   "outputs": [
    {
     "name": "stderr",
     "output_type": "stream",
     "text": [
      "C:\\Users\\afnan\\anaconda3\\Lib\\site-packages\\keras\\src\\layers\\rnn\\rnn.py:204: UserWarning: Do not pass an `input_shape`/`input_dim` argument to a layer. When using Sequential models, prefer using an `Input(shape)` object as the first layer in the model instead.\n",
      "  super().__init__(**kwargs)\n"
     ]
    },
    {
     "data": {
      "text/html": [
       "<pre style=\"white-space:pre;overflow-x:auto;line-height:normal;font-family:Menlo,'DejaVu Sans Mono',consolas,'Courier New',monospace\"><span style=\"font-weight: bold\">Model: \"sequential\"</span>\n",
       "</pre>\n"
      ],
      "text/plain": [
       "\u001b[1mModel: \"sequential\"\u001b[0m\n"
      ]
     },
     "metadata": {},
     "output_type": "display_data"
    },
    {
     "data": {
      "text/html": [
       "<pre style=\"white-space:pre;overflow-x:auto;line-height:normal;font-family:Menlo,'DejaVu Sans Mono',consolas,'Courier New',monospace\">┏━━━━━━━━━━━━━━━━━━━━━━━━━━━━━━━━━━━━━━┳━━━━━━━━━━━━━━━━━━━━━━━━━━━━━┳━━━━━━━━━━━━━━━━━┓\n",
       "┃<span style=\"font-weight: bold\"> Layer (type)                         </span>┃<span style=\"font-weight: bold\"> Output Shape                </span>┃<span style=\"font-weight: bold\">         Param # </span>┃\n",
       "┡━━━━━━━━━━━━━━━━━━━━━━━━━━━━━━━━━━━━━━╇━━━━━━━━━━━━━━━━━━━━━━━━━━━━━╇━━━━━━━━━━━━━━━━━┩\n",
       "│ lstm (<span style=\"color: #0087ff; text-decoration-color: #0087ff\">LSTM</span>)                          │ (<span style=\"color: #00d7ff; text-decoration-color: #00d7ff\">None</span>, <span style=\"color: #00af00; text-decoration-color: #00af00\">1</span>, <span style=\"color: #00af00; text-decoration-color: #00af00\">45</span>)               │          <span style=\"color: #00af00; text-decoration-color: #00af00\">16,380</span> │\n",
       "├──────────────────────────────────────┼─────────────────────────────┼─────────────────┤\n",
       "│ dropout (<span style=\"color: #0087ff; text-decoration-color: #0087ff\">Dropout</span>)                    │ (<span style=\"color: #00d7ff; text-decoration-color: #00d7ff\">None</span>, <span style=\"color: #00af00; text-decoration-color: #00af00\">1</span>, <span style=\"color: #00af00; text-decoration-color: #00af00\">45</span>)               │               <span style=\"color: #00af00; text-decoration-color: #00af00\">0</span> │\n",
       "├──────────────────────────────────────┼─────────────────────────────┼─────────────────┤\n",
       "│ dense (<span style=\"color: #0087ff; text-decoration-color: #0087ff\">Dense</span>)                        │ (<span style=\"color: #00d7ff; text-decoration-color: #00d7ff\">None</span>, <span style=\"color: #00af00; text-decoration-color: #00af00\">1</span>, <span style=\"color: #00af00; text-decoration-color: #00af00\">16</span>)               │             <span style=\"color: #00af00; text-decoration-color: #00af00\">736</span> │\n",
       "├──────────────────────────────────────┼─────────────────────────────┼─────────────────┤\n",
       "│ re_lu (<span style=\"color: #0087ff; text-decoration-color: #0087ff\">ReLU</span>)                         │ (<span style=\"color: #00d7ff; text-decoration-color: #00d7ff\">None</span>, <span style=\"color: #00af00; text-decoration-color: #00af00\">1</span>, <span style=\"color: #00af00; text-decoration-color: #00af00\">16</span>)               │               <span style=\"color: #00af00; text-decoration-color: #00af00\">0</span> │\n",
       "├──────────────────────────────────────┼─────────────────────────────┼─────────────────┤\n",
       "│ lstm_1 (<span style=\"color: #0087ff; text-decoration-color: #0087ff\">LSTM</span>)                        │ (<span style=\"color: #00d7ff; text-decoration-color: #00d7ff\">None</span>, <span style=\"color: #00af00; text-decoration-color: #00af00\">8</span>)                   │             <span style=\"color: #00af00; text-decoration-color: #00af00\">800</span> │\n",
       "├──────────────────────────────────────┼─────────────────────────────┼─────────────────┤\n",
       "│ dropout_1 (<span style=\"color: #0087ff; text-decoration-color: #0087ff\">Dropout</span>)                  │ (<span style=\"color: #00d7ff; text-decoration-color: #00d7ff\">None</span>, <span style=\"color: #00af00; text-decoration-color: #00af00\">8</span>)                   │               <span style=\"color: #00af00; text-decoration-color: #00af00\">0</span> │\n",
       "├──────────────────────────────────────┼─────────────────────────────┼─────────────────┤\n",
       "│ re_lu_1 (<span style=\"color: #0087ff; text-decoration-color: #0087ff\">ReLU</span>)                       │ (<span style=\"color: #00d7ff; text-decoration-color: #00d7ff\">None</span>, <span style=\"color: #00af00; text-decoration-color: #00af00\">8</span>)                   │               <span style=\"color: #00af00; text-decoration-color: #00af00\">0</span> │\n",
       "├──────────────────────────────────────┼─────────────────────────────┼─────────────────┤\n",
       "│ dense_1 (<span style=\"color: #0087ff; text-decoration-color: #0087ff\">Dense</span>)                      │ (<span style=\"color: #00d7ff; text-decoration-color: #00d7ff\">None</span>, <span style=\"color: #00af00; text-decoration-color: #00af00\">15</span>)                  │             <span style=\"color: #00af00; text-decoration-color: #00af00\">135</span> │\n",
       "└──────────────────────────────────────┴─────────────────────────────┴─────────────────┘\n",
       "</pre>\n"
      ],
      "text/plain": [
       "┏━━━━━━━━━━━━━━━━━━━━━━━━━━━━━━━━━━━━━━┳━━━━━━━━━━━━━━━━━━━━━━━━━━━━━┳━━━━━━━━━━━━━━━━━┓\n",
       "┃\u001b[1m \u001b[0m\u001b[1mLayer (type)                        \u001b[0m\u001b[1m \u001b[0m┃\u001b[1m \u001b[0m\u001b[1mOutput Shape               \u001b[0m\u001b[1m \u001b[0m┃\u001b[1m \u001b[0m\u001b[1m        Param #\u001b[0m\u001b[1m \u001b[0m┃\n",
       "┡━━━━━━━━━━━━━━━━━━━━━━━━━━━━━━━━━━━━━━╇━━━━━━━━━━━━━━━━━━━━━━━━━━━━━╇━━━━━━━━━━━━━━━━━┩\n",
       "│ lstm (\u001b[38;5;33mLSTM\u001b[0m)                          │ (\u001b[38;5;45mNone\u001b[0m, \u001b[38;5;34m1\u001b[0m, \u001b[38;5;34m45\u001b[0m)               │          \u001b[38;5;34m16,380\u001b[0m │\n",
       "├──────────────────────────────────────┼─────────────────────────────┼─────────────────┤\n",
       "│ dropout (\u001b[38;5;33mDropout\u001b[0m)                    │ (\u001b[38;5;45mNone\u001b[0m, \u001b[38;5;34m1\u001b[0m, \u001b[38;5;34m45\u001b[0m)               │               \u001b[38;5;34m0\u001b[0m │\n",
       "├──────────────────────────────────────┼─────────────────────────────┼─────────────────┤\n",
       "│ dense (\u001b[38;5;33mDense\u001b[0m)                        │ (\u001b[38;5;45mNone\u001b[0m, \u001b[38;5;34m1\u001b[0m, \u001b[38;5;34m16\u001b[0m)               │             \u001b[38;5;34m736\u001b[0m │\n",
       "├──────────────────────────────────────┼─────────────────────────────┼─────────────────┤\n",
       "│ re_lu (\u001b[38;5;33mReLU\u001b[0m)                         │ (\u001b[38;5;45mNone\u001b[0m, \u001b[38;5;34m1\u001b[0m, \u001b[38;5;34m16\u001b[0m)               │               \u001b[38;5;34m0\u001b[0m │\n",
       "├──────────────────────────────────────┼─────────────────────────────┼─────────────────┤\n",
       "│ lstm_1 (\u001b[38;5;33mLSTM\u001b[0m)                        │ (\u001b[38;5;45mNone\u001b[0m, \u001b[38;5;34m8\u001b[0m)                   │             \u001b[38;5;34m800\u001b[0m │\n",
       "├──────────────────────────────────────┼─────────────────────────────┼─────────────────┤\n",
       "│ dropout_1 (\u001b[38;5;33mDropout\u001b[0m)                  │ (\u001b[38;5;45mNone\u001b[0m, \u001b[38;5;34m8\u001b[0m)                   │               \u001b[38;5;34m0\u001b[0m │\n",
       "├──────────────────────────────────────┼─────────────────────────────┼─────────────────┤\n",
       "│ re_lu_1 (\u001b[38;5;33mReLU\u001b[0m)                       │ (\u001b[38;5;45mNone\u001b[0m, \u001b[38;5;34m8\u001b[0m)                   │               \u001b[38;5;34m0\u001b[0m │\n",
       "├──────────────────────────────────────┼─────────────────────────────┼─────────────────┤\n",
       "│ dense_1 (\u001b[38;5;33mDense\u001b[0m)                      │ (\u001b[38;5;45mNone\u001b[0m, \u001b[38;5;34m15\u001b[0m)                  │             \u001b[38;5;34m135\u001b[0m │\n",
       "└──────────────────────────────────────┴─────────────────────────────┴─────────────────┘\n"
      ]
     },
     "metadata": {},
     "output_type": "display_data"
    },
    {
     "data": {
      "text/html": [
       "<pre style=\"white-space:pre;overflow-x:auto;line-height:normal;font-family:Menlo,'DejaVu Sans Mono',consolas,'Courier New',monospace\"><span style=\"font-weight: bold\"> Total params: </span><span style=\"color: #00af00; text-decoration-color: #00af00\">18,051</span> (70.51 KB)\n",
       "</pre>\n"
      ],
      "text/plain": [
       "\u001b[1m Total params: \u001b[0m\u001b[38;5;34m18,051\u001b[0m (70.51 KB)\n"
      ]
     },
     "metadata": {},
     "output_type": "display_data"
    },
    {
     "data": {
      "text/html": [
       "<pre style=\"white-space:pre;overflow-x:auto;line-height:normal;font-family:Menlo,'DejaVu Sans Mono',consolas,'Courier New',monospace\"><span style=\"font-weight: bold\"> Trainable params: </span><span style=\"color: #00af00; text-decoration-color: #00af00\">18,051</span> (70.51 KB)\n",
       "</pre>\n"
      ],
      "text/plain": [
       "\u001b[1m Trainable params: \u001b[0m\u001b[38;5;34m18,051\u001b[0m (70.51 KB)\n"
      ]
     },
     "metadata": {},
     "output_type": "display_data"
    },
    {
     "data": {
      "text/html": [
       "<pre style=\"white-space:pre;overflow-x:auto;line-height:normal;font-family:Menlo,'DejaVu Sans Mono',consolas,'Courier New',monospace\"><span style=\"font-weight: bold\"> Non-trainable params: </span><span style=\"color: #00af00; text-decoration-color: #00af00\">0</span> (0.00 B)\n",
       "</pre>\n"
      ],
      "text/plain": [
       "\u001b[1m Non-trainable params: \u001b[0m\u001b[38;5;34m0\u001b[0m (0.00 B)\n"
      ]
     },
     "metadata": {},
     "output_type": "display_data"
    }
   ],
   "source": [
    "num_classes = y_train_lstm.shape[1]\n",
    "\n",
    "# ---------- 2. Define LSTM model ----------\n",
    "model = Sequential()\n",
    "model.add(LSTM(45, return_sequences=True, activation='relu', input_shape=(timesteps, num_features))) \n",
    "model.add(Dropout(0.2))\n",
    "\n",
    "\n",
    "model.add(Dense(16))\n",
    "model.add(ReLU())\n",
    "\n",
    "model.add(LSTM(8, return_sequences=False)) \n",
    "model.add(Dropout(0.2))\n",
    "\n",
    "model.add(ReLU())\n",
    "\n",
    "\n",
    "model.add(Dense(num_classes, activation='softmax'))\n",
    "\n",
    "\n",
    "model.compile(optimizer=Adam(), loss='categorical_crossentropy', metrics=['accuracy'])\n",
    "\n",
    "# early_stop = EarlyStopping(monitor='val_loss', patience=3, restore_best_weights=True)\n",
    "\n",
    "\n",
    "model.summary()"
   ]
  },
  {
   "cell_type": "code",
   "execution_count": 12,
   "id": "d6b7ec2f",
   "metadata": {},
   "outputs": [
    {
     "name": "stdout",
     "output_type": "stream",
     "text": [
      "Epoch 1/15\n",
      "\u001b[1m55480/55480\u001b[0m \u001b[32m━━━━━━━━━━━━━━━━━━━━\u001b[0m\u001b[37m\u001b[0m \u001b[1m72s\u001b[0m 1ms/step - accuracy: 0.8682 - loss: 0.4614 - val_accuracy: 0.9230 - val_loss: 0.2208\n",
      "Epoch 2/15\n",
      "\u001b[1m55480/55480\u001b[0m \u001b[32m━━━━━━━━━━━━━━━━━━━━\u001b[0m\u001b[37m\u001b[0m \u001b[1m70s\u001b[0m 1ms/step - accuracy: 0.8993 - loss: 0.2767 - val_accuracy: 0.9262 - val_loss: 0.2012\n",
      "Epoch 3/15\n",
      "\u001b[1m55480/55480\u001b[0m \u001b[32m━━━━━━━━━━━━━━━━━━━━\u001b[0m\u001b[37m\u001b[0m \u001b[1m71s\u001b[0m 1ms/step - accuracy: 0.9064 - loss: 0.2556 - val_accuracy: 0.9334 - val_loss: 0.1780\n",
      "Epoch 4/15\n",
      "\u001b[1m55480/55480\u001b[0m \u001b[32m━━━━━━━━━━━━━━━━━━━━\u001b[0m\u001b[37m\u001b[0m \u001b[1m71s\u001b[0m 1ms/step - accuracy: 0.9155 - loss: 0.2385 - val_accuracy: 0.9360 - val_loss: 0.1708\n",
      "Epoch 5/15\n",
      "\u001b[1m55480/55480\u001b[0m \u001b[32m━━━━━━━━━━━━━━━━━━━━\u001b[0m\u001b[37m\u001b[0m \u001b[1m72s\u001b[0m 1ms/step - accuracy: 0.9186 - loss: 0.2307 - val_accuracy: 0.9372 - val_loss: 0.1673\n",
      "Epoch 6/15\n",
      "\u001b[1m55480/55480\u001b[0m \u001b[32m━━━━━━━━━━━━━━━━━━━━\u001b[0m\u001b[37m\u001b[0m \u001b[1m74s\u001b[0m 1ms/step - accuracy: 0.9204 - loss: 0.2251 - val_accuracy: 0.9370 - val_loss: 0.1653\n",
      "Epoch 7/15\n",
      "\u001b[1m55480/55480\u001b[0m \u001b[32m━━━━━━━━━━━━━━━━━━━━\u001b[0m\u001b[37m\u001b[0m \u001b[1m71s\u001b[0m 1ms/step - accuracy: 0.9224 - loss: 0.2215 - val_accuracy: 0.9374 - val_loss: 0.1626\n",
      "Epoch 8/15\n",
      "\u001b[1m55480/55480\u001b[0m \u001b[32m━━━━━━━━━━━━━━━━━━━━\u001b[0m\u001b[37m\u001b[0m \u001b[1m72s\u001b[0m 1ms/step - accuracy: 0.9229 - loss: 0.2193 - val_accuracy: 0.9378 - val_loss: 0.1614\n",
      "Epoch 9/15\n",
      "\u001b[1m55480/55480\u001b[0m \u001b[32m━━━━━━━━━━━━━━━━━━━━\u001b[0m\u001b[37m\u001b[0m \u001b[1m72s\u001b[0m 1ms/step - accuracy: 0.9234 - loss: 0.2176 - val_accuracy: 0.9372 - val_loss: 0.1575\n",
      "Epoch 10/15\n",
      "\u001b[1m55480/55480\u001b[0m \u001b[32m━━━━━━━━━━━━━━━━━━━━\u001b[0m\u001b[37m\u001b[0m \u001b[1m71s\u001b[0m 1ms/step - accuracy: 0.9249 - loss: 0.2103 - val_accuracy: 0.9387 - val_loss: 0.1546\n",
      "Epoch 11/15\n",
      "\u001b[1m55480/55480\u001b[0m \u001b[32m━━━━━━━━━━━━━━━━━━━━\u001b[0m\u001b[37m\u001b[0m \u001b[1m71s\u001b[0m 1ms/step - accuracy: 0.9260 - loss: 0.2053 - val_accuracy: 0.9381 - val_loss: 0.1540\n",
      "Epoch 12/15\n",
      "\u001b[1m55480/55480\u001b[0m \u001b[32m━━━━━━━━━━━━━━━━━━━━\u001b[0m\u001b[37m\u001b[0m \u001b[1m82s\u001b[0m 1ms/step - accuracy: 0.9272 - loss: 0.2020 - val_accuracy: 0.9391 - val_loss: 0.1475\n",
      "Epoch 13/15\n",
      "\u001b[1m55480/55480\u001b[0m \u001b[32m━━━━━━━━━━━━━━━━━━━━\u001b[0m\u001b[37m\u001b[0m \u001b[1m76s\u001b[0m 1ms/step - accuracy: 0.9277 - loss: 0.1990 - val_accuracy: 0.9417 - val_loss: 0.1463\n",
      "Epoch 14/15\n",
      "\u001b[1m55480/55480\u001b[0m \u001b[32m━━━━━━━━━━━━━━━━━━━━\u001b[0m\u001b[37m\u001b[0m \u001b[1m74s\u001b[0m 1ms/step - accuracy: 0.9281 - loss: 0.1981 - val_accuracy: 0.9405 - val_loss: 0.1439\n",
      "Epoch 15/15\n",
      "\u001b[1m55480/55480\u001b[0m \u001b[32m━━━━━━━━━━━━━━━━━━━━\u001b[0m\u001b[37m\u001b[0m \u001b[1m76s\u001b[0m 1ms/step - accuracy: 0.9292 - loss: 0.1940 - val_accuracy: 0.9416 - val_loss: 0.1425\n",
      "training duration is: 1096.9870390892029\n"
     ]
    }
   ],
   "source": [
    "# Step 5: Train\n",
    "start_time_lstm = time.time()\n",
    "history = model.fit(\n",
    "    X_train_lstm, \n",
    "    y_train_lstm,                \n",
    "    validation_data=(X_val_lstm, y_val_lstm), #validation dataset\n",
    "    epochs=15,\n",
    "    batch_size=32,\n",
    "#     callbacks=None,\n",
    "#     shuffle=True,\n",
    "#     class_weight=None,\n",
    "    verbose=1\n",
    ")\n",
    "end_time_lstm = time.time()\n",
    "training_duration_lstm = end_time_lstm - start_time_lstm\n",
    "print(f\"training duration is: {training_duration_lstm}\")"
   ]
  },
  {
   "cell_type": "code",
   "execution_count": 13,
   "id": "eb9f4217",
   "metadata": {},
   "outputs": [
    {
     "data": {
      "image/png": "[encoded data removed]",
      "text/plain": [
       "<Figure size 640x480 with 1 Axes>"
      ]
     },
     "metadata": {},
     "output_type": "display_data"
    }
   ],
   "source": [
    "# ---------- 4. Check loss over time ----------\n",
    "\n",
    "plt.plot(history.history['loss'])\n",
    "plt.title('Loss over Epochs (Overfitting Test)')\n",
    "plt.xlabel('Epoch')\n",
    "plt.ylabel('Loss')\n",
    "plt.grid(True)\n",
    "plt.show()"
   ]
  },
  {
   "cell_type": "code",
   "execution_count": null,
   "id": "efb79cb1",
   "metadata": {},
   "outputs": [],
   "source": [
    "print(\"x_test_fnn shape:\", X_test_fnn.shape)\n",
    "print(\"timesteps:\", timesteps)\n",
    "print(\"num_features:\", num_features)"
   ]
  },
  {
   "cell_type": "code",
   "execution_count": null,
   "id": "22d5b2b1",
   "metadata": {},
   "outputs": [],
   "source": [
    "X_test_array = X_test_fnn.to_numpy()  # Convert to numpy array\n",
    "y_test_np = y_test_fnn.to_numpy().reshape(-1, 1)\n",
    "\n",
    "# Check shape of X_test_array\n",
    "print(\"X_test_array shape:\", X_test_array.shape)\n",
    "\n",
    "# Reshape to (samples, timesteps, num_features)\n",
    "X_test_lstm = X_test_array.reshape((X_test_array.shape[0], timesteps, num_features))\n",
    "print(\"X_test_lstm shape:\", X_test_lstm.shape)"
   ]
  },
  {
   "cell_type": "code",
   "execution_count": 18,
   "id": "859cafe8",
   "metadata": {},
   "outputs": [
    {
     "name": "stdout",
     "output_type": "stream",
     "text": [
      "\u001b[1m6936/6936\u001b[0m \u001b[32m━━━━━━━━━━━━━━━━━━━━\u001b[0m\u001b[37m\u001b[0m \u001b[1m6s\u001b[0m 913us/step - accuracy: 0.9429 - loss: 0.1396\n",
      "Test Loss: 0.1417\n",
      "Test Accuracy: 0.9417\n",
      "\u001b[1m6936/6936\u001b[0m \u001b[32m━━━━━━━━━━━━━━━━━━━━\u001b[0m\u001b[37m\u001b[0m \u001b[1m6s\u001b[0m 800us/step\n"
     ]
    }
   ],
   "source": [
    "# Evaluate model\n",
    "test_loss, test_accuracy = model.evaluate(X_test_lstm, y_test_lstm, verbose=1)\n",
    "print(f\"Test Loss: {test_loss:.4f}\")\n",
    "print(f\"Test Accuracy: {test_accuracy:.4f}\")\n",
    "\n",
    "# Predict class probabilities\n",
    "y_pred_prob = model.predict(X_test_lstm)\n",
    "\n",
    "# Get predicted classes (argmax of softmax output)\n",
    "y_pred = np.argmax(y_pred_prob, axis=1)\n",
    "\n",
    "# Get true classes (from one-hot encoded labels)\n",
    "y_true = np.argmax(y_test_lstm, axis=1)\n",
    "\n"
   ]
  },
  {
   "cell_type": "code",
   "execution_count": 15,
   "id": "0bc530e0",
   "metadata": {},
   "outputs": [
    {
     "name": "stdout",
     "output_type": "stream",
     "text": [
      "              precision    recall  f1-score   support\n",
      "\n",
      "           0       0.83      0.94      0.88      2486\n",
      "           1       0.96      0.59      0.73      4991\n",
      "           2       1.00      1.00      1.00     11644\n",
      "           3       0.70      1.00      0.83      5006\n",
      "           4       1.00      1.00      1.00     12157\n",
      "           5       0.85      0.11      0.19       100\n",
      "           6       1.00      0.94      0.97       121\n",
      "           7       1.00      1.00      1.00    161565\n",
      "           8       0.00      0.00      0.00      5016\n",
      "           9       0.67      0.08      0.15      2256\n",
      "          10       0.89      0.06      0.11      1092\n",
      "          11       0.71      0.44      0.54      5121\n",
      "          12       0.94      0.37      0.53      3764\n",
      "          13       0.87      0.84      0.85      5011\n",
      "          14       1.00      0.02      0.04      1591\n",
      "\n",
      "   micro avg       0.98      0.92      0.95    221921\n",
      "   macro avg       0.83      0.56      0.59    221921\n",
      "weighted avg       0.95      0.92      0.92    221921\n",
      " samples avg       0.92      0.92      0.92    221921\n",
      "\n"
     ]
    },
    {
     "name": "stderr",
     "output_type": "stream",
     "text": [
      "C:\\Users\\afnan\\anaconda3\\Lib\\site-packages\\sklearn\\metrics\\_classification.py:1469: UndefinedMetricWarning: Precision and F-score are ill-defined and being set to 0.0 in labels with no predicted samples. Use `zero_division` parameter to control this behavior.\n",
      "  _warn_prf(average, modifier, msg_start, len(result))\n",
      "C:\\Users\\afnan\\anaconda3\\Lib\\site-packages\\sklearn\\metrics\\_classification.py:1469: UndefinedMetricWarning: Precision and F-score are ill-defined and being set to 0.0 in samples with no predicted labels. Use `zero_division` parameter to control this behavior.\n",
      "  _warn_prf(average, modifier, msg_start, len(result))\n"
     ]
    }
   ],
   "source": [
    "\n",
    "# Print classification report\n",
    "\n",
    "print(classification_report(y_test_lstm, y_pred))"
   ]
  },
  {
   "cell_type": "code",
   "execution_count": 19,
   "id": "8c1acc0a",
   "metadata": {},
   "outputs": [],
   "source": [
    "# Compute confusion matrix\n",
    "conf_matrix = confusion_matrix(y_true, y_pred)"
   ]
  },
  {
   "cell_type": "code",
   "execution_count": 20,
   "id": "0da0c8ba",
   "metadata": {},
   "outputs": [
    {
     "data": {
      "image/png": "[encoded data removed]",
      "text/plain": [
       "<Figure size 800x600 with 2 Axes>"
      ]
     },
     "metadata": {},
     "output_type": "display_data"
    }
   ],
   "source": [
    "# Plot confusion matrix\n",
    "plt.figure(figsize=(8, 6))\n",
    "sns.heatmap(conf_matrix, annot=True, fmt='d', cmap=\"Blues\")\n",
    "plt.title(\"Confusion Matrix\")\n",
    "plt.xlabel(\"Predicted Class\")\n",
    "plt.ylabel(\"Actual Class\")\n",
    "plt.tight_layout()\n",
    "plt.show()"
   ]
  },
  {
   "cell_type": "code",
   "execution_count": 21,
   "id": "092ffa2e",
   "metadata": {},
   "outputs": [
    {
     "name": "stderr",
     "output_type": "stream",
     "text": [
      "WARNING:absl:You are saving your model as an HDF5 file via `model.save()` or `keras.saving.save_model(model)`. This file format is considered legacy. We recommend using instead the native Keras format, e.g. `model.save('my_model.keras')` or `keras.saving.save_model(model, 'my_model.keras')`. \n"
     ]
    }
   ],
   "source": [
    "model.save(\"lstm_edge_model.h5\")"
   ]
  },
  {
   "cell_type": "code",
   "execution_count": null,
   "id": "b5f23801",
   "metadata": {},
   "outputs": [],
   "source": [
    "print(\"X_test_lstm shape:\", X_test_lstm.shape)\n",
    "print(\"y_test_np shape:\", y_test_np.shape)\n",
    "print(\"X_test_lstm dtype:\", X_test_lstm.dtype)\n",
    "print(\"y_test_np dtype:\", y_test_np.dtype)"
   ]
  },
  {
   "cell_type": "markdown",
   "id": "fea9f3a0",
   "metadata": {},
   "source": [
    "# CNN + LSTM Hybrid\n"
   ]
  },
  {
   "cell_type": "code",
   "execution_count": 10,
   "id": "313c89e9",
   "metadata": {},
   "outputs": [],
   "source": [
    "timesteps = 10\n",
    "total_features = X_train_fnn.shape[1]\n",
    "\n",
    "remainder = total_features % timesteps  # 6\n",
    "padding_size = timesteps - remainder  # 4\n",
    "\n",
    "num_features = (total_features + padding_size) // timesteps  # 50 // 10 = 5\n",
    "\n",
    "input_shape = (timesteps, num_features)\n",
    "\n",
    "\n",
    "\n",
    "# --- Step 1: Convert DataFrames to NumPy Arrays ---\n",
    "X_train_hybrid = X_train_fnn.to_numpy()\n",
    "y_train_hybrid = y_train_fnn.to_numpy().reshape(-1, 1)\n",
    "\n",
    "X_val_hybrid = X_val_fnn.to_numpy()\n",
    "y_val_hybrid = y_val_fnn.to_numpy().reshape(-1, 1)\n",
    "\n",
    "X_test_hybrid = X_test_fnn.to_numpy()\n",
    "y_test_hybrid = y_test_fnn.to_numpy().reshape(-1, 1)\n",
    "\n",
    "# --- Step 2: Scale Features ---\n",
    "scaler = MinMaxScaler()\n",
    "X_train_scaled_hybrid = scaler.fit_transform(X_train_hybrid)\n",
    "X_val_scaled_hybrid = scaler.transform(X_val_hybrid)  # use transform only on val\n",
    "X_test_scaled_hybrid = scaler.transform(X_test_hybrid)\n",
    "\n",
    "#padding so that its evenly divided\n",
    "\n",
    "X_train_padded = np.pad(\n",
    "    X_train_scaled_hybrid,\n",
    "    pad_width=((0, 0), (0, padding_size)),\n",
    "    mode='constant',\n",
    "    constant_values=0\n",
    ")\n",
    "X_val_padded = np.pad(\n",
    "    X_val_scaled_hybrid,\n",
    "    pad_width=((0, 0), (0, padding_size)),\n",
    "    mode='constant',\n",
    "    constant_values=0\n",
    ")\n",
    "\n",
    "X_test_padded = np.pad(\n",
    "    X_test_scaled_hybrid,\n",
    "    pad_width=((0, 0), (0, padding_size)),\n",
    "    mode='constant',\n",
    "    constant_values=0\n",
    ")\n",
    "\n",
    "\n",
    "X_train_hybrid = X_train_padded.reshape(-1, timesteps, num_features)\n",
    "X_val_hybrid = X_val_padded.reshape(-1, timesteps, num_features)\n",
    "X_test_hybrid = X_test_padded.reshape(-1, timesteps, num_features)\n",
    "\n",
    "y_train_hybrid = to_categorical(y_train_fnn)\n",
    "y_val_hybrid = to_categorical(y_val_fnn)\n",
    "y_test_hybrid = to_categorical(y_test_fnn)\n",
    "\n"
   ]
  },
  {
   "cell_type": "code",
   "execution_count": null,
   "id": "fe7fc2c6",
   "metadata": {},
   "outputs": [],
   "source": [
    "num_classes = y_train_lstm.shape[1]\n",
    "\n",
    "def cnn_lstm_gru_model(input_shape):\n",
    "    model = Sequential([\n",
    "        Conv1D(45, 3, padding='same', input_shape=input_shape),\n",
    "        BatchNormalization(),\n",
    "        ReLU(),\n",
    "        MaxPooling1D(2),\n",
    "        Dropout(0.2),\n",
    "\n",
    "        Conv1D(64, 3, padding='same'),\n",
    "        BatchNormalization(),\n",
    "        ReLU(),\n",
    "        MaxPooling1D(2),\n",
    "        Dropout(0.2),\n",
    "\n",
    "        LSTM(24, return_sequences=False),\n",
    "\n",
    "#         Dense(16, activation='relu',kernel_regularizer=l2(0.001)),\n",
    "        Dropout(0.2),\n",
    "        Dense(num_classes, activation='softmax')\n",
    "    ])\n",
    "\n",
    "    model.compile(optimizer='adam', loss='categorical_crossentropy', metrics=['accuracy'])\n",
    "    return model\n"
   ]
  },
  {
   "cell_type": "code",
   "execution_count": null,
   "id": "77589968",
   "metadata": {
    "scrolled": true
   },
   "outputs": [],
   "source": [
    "model = cnn_lstm_gru_model(input_shape)\n",
    "model.summary()"
   ]
  },
  {
   "cell_type": "code",
   "execution_count": null,
   "id": "4b15a2a9",
   "metadata": {},
   "outputs": [],
   "source": [
    "train_start_time_hybrid = time.time()\n",
    "\n",
    "early_stop = EarlyStopping(monitor='val_loss', patience=5, restore_best_weights=True)\n",
    "# Train the model\n",
    "history = model.fit(\n",
    "    X_train_hybrid,\n",
    "    y_train_hybrid,\n",
    "    validation_data=(X_val_hybrid, y_val_hybrid),\n",
    "    epochs=3,\n",
    "    batch_size=32,\n",
    "    callbacks=[early_stop],\n",
    "    shuffle=True,\n",
    "    class_weight=None,\n",
    ")\n",
    "# Record the ending time\n",
    "train_end_time_hybrid = time.time()\n",
    "\n",
    "\n",
    "# Evaluate the model\n",
    "loss, accuracy = model.evaluate(X_test_hybrid, y_test_hybrid, batch_size=32)\n",
    "\n",
    "print(f'Test Loss: {loss:.4f}')\n",
    "print(f'Test Accuracy: {accuracy:.4f}')\n",
    "\n",
    "# Calculate and print the training time\n",
    "train_time_hybrid = train_end_time_hybrid - train_start_time_hybrid\n",
    "print(f\"Training time: {train_time_hybrid:.2f} seconds\")\n"
   ]
  },
  {
   "cell_type": "code",
   "execution_count": null,
   "id": "38435aaf",
   "metadata": {},
   "outputs": [],
   "source": [
    "# Plot the training and validation accuracy over the epochs\n",
    "plt.plot(history.history['accuracy'])\n",
    "plt.plot(history.history['val_accuracy'])\n",
    "plt.title('Model accuracy')\n",
    "plt.ylabel('Accuracy')\n",
    "plt.xlabel('Epoch')\n",
    "plt.legend(['Train', 'Validation'], loc='upper left')\n",
    "plt.show()\n"
   ]
  },
  {
   "cell_type": "code",
   "execution_count": null,
   "id": "daa1c196",
   "metadata": {},
   "outputs": [],
   "source": [
    "\n",
    "# Plot the training and validation loss over the epochs\n",
    "plt.plot(history.history['loss'])\n",
    "plt.plot(history.history['val_loss'])\n",
    "plt.title('Model loss')\n",
    "plt.ylabel('Loss')\n",
    "plt.xlabel('Epoch')\n",
    "plt.legend(['Train', 'Validation'], loc='upper left')\n",
    "plt.show()\n"
   ]
  },
  {
   "cell_type": "code",
   "execution_count": null,
   "id": "7cff391d",
   "metadata": {},
   "outputs": [],
   "source": [
    "#predictions using trained model\n",
    "y_pred = model.predict(X_test_hybrid)\n",
    "y_pred_labels = (y_pred > 0.5).astype(int)  # Convert to 0 or 1"
   ]
  },
  {
   "cell_type": "code",
   "execution_count": null,
   "id": "0a25d430",
   "metadata": {},
   "outputs": [],
   "source": [
    "print(classification_report(y_test_hybrid, y_pred_labels))\n",
    "print(confusion_matrix(y_test_hybrid, y_pred_labels))"
   ]
  },
  {
   "cell_type": "code",
   "execution_count": null,
   "id": "28aa3163",
   "metadata": {},
   "outputs": [],
   "source": [
    "model.save(\"cnn_lstm_hybrid_model.h5\")"
   ]
  },
  {
   "cell_type": "code",
   "execution_count": null,
   "id": "8e9996a2",
   "metadata": {},
   "outputs": [],
   "source": []
  },
  {
   "cell_type": "code",
   "execution_count": null,
   "id": "2dadbf6c",
   "metadata": {},
   "outputs": [],
   "source": []
  }
 ],
 "metadata": {
  "kernelspec": {
   "display_name": "Python 3 (ipykernel)",
   "language": "python",
   "name": "python3"
  },
  "language_info": {
   "codemirror_mode": {
    "name": "ipython",
    "version": 3
   },
   "file_extension": ".py",
   "mimetype": "text/x-python",
   "name": "python",
   "nbconvert_exporter": "python",
   "pygments_lexer": "ipython3",
   "version": "3.11.5"
  }
 },
 "nbformat": 4,
 "nbformat_minor": 5
}
