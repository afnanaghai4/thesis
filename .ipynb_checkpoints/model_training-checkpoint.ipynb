{
 "cells": [
  {
   "cell_type": "code",
   "execution_count": 1,
   "id": "e812862b",
   "metadata": {},
   "outputs": [],
   "source": [
    "import pandas as pd\n",
    "import numpy as np\n",
    "from sklearn.model_selection import train_test_split\n",
    "from sklearn.preprocessing import LabelEncoder\n",
    "\n",
    "from huggingface_hub import login,HfApi, upload_file\n",
    "\n",
    "\n",
    "\n",
    "from xgboost import XGBClassifier\n",
    "from sklearn.metrics import classification_report, accuracy_score\n",
    "\n",
    "import time\n",
    "\n"
   ]
  },
  {
   "cell_type": "code",
   "execution_count": 2,
   "id": "1f849c66",
   "metadata": {},
   "outputs": [],
   "source": [
    "df = pd.read_csv('E:/masters material/thesis/datasets/Edge-IIoTset dataset/Selected dataset for ML and DL/ML-EdgeIIoT-dataset.csv', low_memory=False)"
   ]
  },
  {
   "cell_type": "code",
   "execution_count": 3,
   "id": "a0604a24",
   "metadata": {},
   "outputs": [
    {
     "name": "stdout",
     "output_type": "stream",
     "text": [
      "Attack_type\n",
      "Normal                   24301\n",
      "DDoS_UDP                 14498\n",
      "DDoS_ICMP                14090\n",
      "Ransomware               10925\n",
      "DDoS_HTTP                10561\n",
      "SQL_injection            10311\n",
      "Uploading                10269\n",
      "DDoS_TCP                 10247\n",
      "Backdoor                 10195\n",
      "Vulnerability_scanner    10076\n",
      "Port_Scanning            10071\n",
      "XSS                      10052\n",
      "Password                  9989\n",
      "MITM                      1214\n",
      "Fingerprinting            1001\n",
      "Name: count, dtype: int64\n"
     ]
    }
   ],
   "source": [
    "print(df['Attack_type'].value_counts())"
   ]
  },
  {
   "cell_type": "code",
   "execution_count": null,
   "id": "6365bd79",
   "metadata": {},
   "outputs": [],
   "source": [
    "print(df.columns)"
   ]
  },
  {
   "cell_type": "code",
   "execution_count": null,
   "id": "c9ad1f5c",
   "metadata": {},
   "outputs": [],
   "source": [
    "df.info()"
   ]
  },
  {
   "cell_type": "code",
   "execution_count": null,
   "id": "44edad89",
   "metadata": {},
   "outputs": [],
   "source": [
    "df.describe()"
   ]
  },
  {
   "cell_type": "code",
   "execution_count": null,
   "id": "d69b27c0",
   "metadata": {},
   "outputs": [],
   "source": [
    "df.head()"
   ]
  },
  {
   "cell_type": "code",
   "execution_count": null,
   "id": "ef464e3f",
   "metadata": {},
   "outputs": [],
   "source": [
    "print(df.isnull().sum())"
   ]
  },
  {
   "cell_type": "code",
   "execution_count": null,
   "id": "6c40c536",
   "metadata": {},
   "outputs": [],
   "source": [
    "print(df.duplicated().sum())"
   ]
  },
  {
   "cell_type": "markdown",
   "id": "f8273bf8",
   "metadata": {},
   "source": [
    "# decision tree classifier"
   ]
  },
  {
   "cell_type": "code",
   "execution_count": 5,
   "id": "d61d4eee",
   "metadata": {},
   "outputs": [],
   "source": [
    "# Drop rows with missing values\n",
    "df.dropna(inplace=True)\n",
    "\n",
    "# Step 1: Drop object columns\n",
    "X = df.drop(columns=['Attack_label'])  # Drop target and any duplicates\n",
    "X = X.select_dtypes(include=['int64', 'float64', 'bool'])  # Keep numeric features only\n",
    "\n",
    "# Step 2: Set target\n",
    "y = df['Attack_label']\n",
    "\n",
    "# Train-val-test split: 70/20/10\n",
    "X_train, X_temp, y_train, y_temp = train_test_split(X, y, test_size=0.3, stratify=y, random_state=42)\n",
    "X_val, X_test, y_val, y_test = train_test_split(X_temp, y_temp, test_size=1/3, stratify=y_temp, random_state=42)\n"
   ]
  },
  {
   "cell_type": "code",
   "execution_count": 6,
   "id": "c68fa3fa",
   "metadata": {},
   "outputs": [
    {
     "name": "stdout",
     "output_type": "stream",
     "text": [
      "Train class distribution:\n",
      " Attack_label\n",
      "1    93449\n",
      "0    17011\n",
      "Name: count, dtype: int64\n",
      "Validation class distribution:\n",
      " Attack_label\n",
      "1    26700\n",
      "0     4860\n",
      "Name: count, dtype: int64\n",
      "Test class distribution:\n",
      " Attack_label\n",
      "1    13350\n",
      "0     2430\n",
      "Name: count, dtype: int64\n"
     ]
    }
   ],
   "source": [
    "print(\"Train class distribution:\\n\", y_train.value_counts())\n",
    "print(\"Validation class distribution:\\n\", y_val.value_counts())\n",
    "print(\"Test class distribution:\\n\", y_test.value_counts())"
   ]
  },
  {
   "cell_type": "code",
   "execution_count": 7,
   "id": "73a394c0",
   "metadata": {},
   "outputs": [
    {
     "name": "stdout",
     "output_type": "stream",
     "text": [
      "X shape: (157800, 42)\n",
      "X columns: ['arp.opcode', 'arp.hw.size', 'icmp.checksum', 'icmp.seq_le', 'icmp.transmit_timestamp', 'icmp.unused', 'http.content_length', 'http.response', 'http.tls_port', 'tcp.ack', 'tcp.ack_raw', 'tcp.checksum', 'tcp.connection.fin', 'tcp.connection.rst', 'tcp.connection.syn', 'tcp.connection.synack', 'tcp.dstport', 'tcp.flags', 'tcp.flags.ack', 'tcp.len', 'tcp.seq', 'udp.port', 'udp.stream', 'udp.time_delta', 'dns.qry.name', 'dns.qry.qu', 'dns.qry.type', 'dns.retransmission', 'dns.retransmit_request', 'dns.retransmit_request_in', 'mqtt.conflag.cleansess', 'mqtt.conflags', 'mqtt.hdrflags', 'mqtt.len', 'mqtt.msg_decoded_as', 'mqtt.msgtype', 'mqtt.proto_len', 'mqtt.topic_len', 'mqtt.ver', 'mbtcp.len', 'mbtcp.trans_id', 'mbtcp.unit_id']\n"
     ]
    }
   ],
   "source": [
    "print(\"X shape:\", X.shape)\n",
    "print(\"X columns:\", X.columns.tolist())"
   ]
  },
  {
   "cell_type": "code",
   "execution_count": 12,
   "id": "267241ad",
   "metadata": {},
   "outputs": [
    {
     "name": "stdout",
     "output_type": "stream",
     "text": [
      "[0]\tvalidation_0-logloss:0.36027\n",
      "[1]\tvalidation_0-logloss:0.30288\n",
      "[2]\tvalidation_0-logloss:0.26480\n",
      "[3]\tvalidation_0-logloss:0.23472\n",
      "[4]\tvalidation_0-logloss:0.20795\n",
      "[5]\tvalidation_0-logloss:0.18535\n",
      "[6]\tvalidation_0-logloss:0.16661\n",
      "[7]\tvalidation_0-logloss:0.15046\n",
      "[8]\tvalidation_0-logloss:0.13652\n",
      "[9]\tvalidation_0-logloss:0.12434\n",
      "[10]\tvalidation_0-logloss:0.11420\n",
      "[11]\tvalidation_0-logloss:0.10467\n",
      "[12]\tvalidation_0-logloss:0.09672\n",
      "[13]\tvalidation_0-logloss:0.08892\n",
      "[14]\tvalidation_0-logloss:0.08203\n",
      "[15]\tvalidation_0-logloss:0.07593\n",
      "[16]\tvalidation_0-logloss:0.07054\n",
      "[17]\tvalidation_0-logloss:0.06572\n",
      "[18]\tvalidation_0-logloss:0.06141\n",
      "[19]\tvalidation_0-logloss:0.05726\n",
      "[20]\tvalidation_0-logloss:0.05350\n",
      "[21]\tvalidation_0-logloss:0.05013\n"
     ]
    },
    {
     "name": "stderr",
     "output_type": "stream",
     "text": [
      "C:\\Users\\afnan\\anaconda3\\Lib\\site-packages\\xgboost\\training.py:183: UserWarning: [15:32:48] WARNING: C:\\actions-runner\\_work\\xgboost\\xgboost\\src\\learner.cc:738: \n",
      "Parameters: { \"use_label_encoder\" } are not used.\n",
      "\n",
      "  bst.update(dtrain, iteration=i, fobj=obj)\n"
     ]
    },
    {
     "name": "stdout",
     "output_type": "stream",
     "text": [
      "[22]\tvalidation_0-logloss:0.04712\n",
      "[23]\tvalidation_0-logloss:0.04446\n",
      "[24]\tvalidation_0-logloss:0.04198\n",
      "[25]\tvalidation_0-logloss:0.03990\n",
      "[26]\tvalidation_0-logloss:0.03789\n",
      "[27]\tvalidation_0-logloss:0.03622\n",
      "[28]\tvalidation_0-logloss:0.03440\n",
      "[29]\tvalidation_0-logloss:0.03275\n",
      "[30]\tvalidation_0-logloss:0.03149\n",
      "[31]\tvalidation_0-logloss:0.03033\n",
      "[32]\tvalidation_0-logloss:0.02919\n",
      "[33]\tvalidation_0-logloss:0.02804\n",
      "[34]\tvalidation_0-logloss:0.02751\n",
      "[35]\tvalidation_0-logloss:0.02660\n",
      "[36]\tvalidation_0-logloss:0.02582\n",
      "[37]\tvalidation_0-logloss:0.02491\n",
      "[38]\tvalidation_0-logloss:0.02432\n",
      "[39]\tvalidation_0-logloss:0.02364\n",
      "[40]\tvalidation_0-logloss:0.02305\n",
      "[41]\tvalidation_0-logloss:0.02249\n",
      "[42]\tvalidation_0-logloss:0.02189\n",
      "[43]\tvalidation_0-logloss:0.02137\n",
      "[44]\tvalidation_0-logloss:0.02091\n",
      "[45]\tvalidation_0-logloss:0.02050\n",
      "[46]\tvalidation_0-logloss:0.02000\n",
      "[47]\tvalidation_0-logloss:0.01962\n",
      "[48]\tvalidation_0-logloss:0.01915\n",
      "[49]\tvalidation_0-logloss:0.01883\n",
      "[50]\tvalidation_0-logloss:0.01837\n",
      "[51]\tvalidation_0-logloss:0.01813\n",
      "[52]\tvalidation_0-logloss:0.01780\n",
      "[53]\tvalidation_0-logloss:0.01759\n",
      "[54]\tvalidation_0-logloss:0.01741\n",
      "[55]\tvalidation_0-logloss:0.01720\n",
      "[56]\tvalidation_0-logloss:0.01702\n",
      "[57]\tvalidation_0-logloss:0.01686\n",
      "[58]\tvalidation_0-logloss:0.01671\n",
      "[59]\tvalidation_0-logloss:0.01656\n",
      "[60]\tvalidation_0-logloss:0.01641\n",
      "[61]\tvalidation_0-logloss:0.01627\n",
      "[62]\tvalidation_0-logloss:0.01618\n",
      "[63]\tvalidation_0-logloss:0.01602\n",
      "[64]\tvalidation_0-logloss:0.01591\n",
      "[65]\tvalidation_0-logloss:0.01581\n",
      "[66]\tvalidation_0-logloss:0.01562\n",
      "[67]\tvalidation_0-logloss:0.01556\n",
      "[68]\tvalidation_0-logloss:0.01551\n",
      "[69]\tvalidation_0-logloss:0.01544\n",
      "[70]\tvalidation_0-logloss:0.01536\n",
      "[71]\tvalidation_0-logloss:0.01525\n",
      "[72]\tvalidation_0-logloss:0.01517\n",
      "[73]\tvalidation_0-logloss:0.01511\n",
      "[74]\tvalidation_0-logloss:0.01504\n",
      "[75]\tvalidation_0-logloss:0.01499\n",
      "[76]\tvalidation_0-logloss:0.01494\n",
      "[77]\tvalidation_0-logloss:0.01494\n",
      "[78]\tvalidation_0-logloss:0.01489\n",
      "[79]\tvalidation_0-logloss:0.01484\n",
      "[80]\tvalidation_0-logloss:0.01481\n",
      "[81]\tvalidation_0-logloss:0.01478\n",
      "[82]\tvalidation_0-logloss:0.01471\n",
      "[83]\tvalidation_0-logloss:0.01468\n",
      "[84]\tvalidation_0-logloss:0.01467\n",
      "[85]\tvalidation_0-logloss:0.01466\n",
      "[86]\tvalidation_0-logloss:0.01462\n",
      "[87]\tvalidation_0-logloss:0.01459\n",
      "[88]\tvalidation_0-logloss:0.01451\n",
      "[89]\tvalidation_0-logloss:0.01442\n",
      "[90]\tvalidation_0-logloss:0.01439\n",
      "[91]\tvalidation_0-logloss:0.01437\n",
      "[92]\tvalidation_0-logloss:0.01436\n",
      "[93]\tvalidation_0-logloss:0.01437\n",
      "[94]\tvalidation_0-logloss:0.01436\n",
      "[95]\tvalidation_0-logloss:0.01429\n",
      "[96]\tvalidation_0-logloss:0.01429\n",
      "[97]\tvalidation_0-logloss:0.01429\n",
      "[98]\tvalidation_0-logloss:0.01425\n",
      "[99]\tvalidation_0-logloss:0.01424\n"
     ]
    },
    {
     "name": "stderr",
     "output_type": "stream",
     "text": [
      "No files have been modified since last commit. Skipping to prevent empty commit.\n"
     ]
    },
    {
     "data": {
      "text/plain": [
       "CommitInfo(commit_url='https://huggingface.co/ScHemer34/DT_XGBoost/commit/4f10a8358b79ca0f6f3127dce28020c7a45902dc', commit_message='Upload xgb_model.json with huggingface_hub', commit_description='', oid='4f10a8358b79ca0f6f3127dce28020c7a45902dc', pr_url=None, repo_url=RepoUrl('https://huggingface.co/ScHemer34/DT_XGBoost', endpoint='https://huggingface.co', repo_type='model', repo_id='ScHemer34/DT_XGBoost'), pr_revision=None, pr_num=None)"
      ]
     },
     "execution_count": 12,
     "metadata": {},
     "output_type": "execute_result"
    }
   ],
   "source": [
    "\n",
    "\n",
    "\n",
    "model = XGBClassifier(\n",
    "    n_estimators=100,\n",
    "    learning_rate=0.1,\n",
    "    max_depth=6,\n",
    "    subsample=0.8,\n",
    "    colsample_bytree=0.8,\n",
    "    random_state=42,\n",
    "    use_label_encoder=False,       # Disable the label encoder warning\n",
    "    objective='binary:logistic',   # Important: binary classification objective\n",
    "    eval_metric='logloss'          # Evaluation metric\n",
    ")\n",
    "\n",
    "# Start timer\n",
    "start_time = time.time()\n",
    "\n",
    "model.fit(\n",
    "    X_train,\n",
    "    y_train,\n",
    "    eval_set=[(X_val, y_val)],\n",
    "    verbose=True  # Optional: shows training log\n",
    ")\n",
    "\n",
    "# End timer\n",
    "end_time = time.time()\n",
    "\n",
    "model.save_model(\"xgb_model.json\")\n",
    "\n",
    "# upload_file(\n",
    "#     path_or_fileobj=\"xgb_model.json\",  # or \"xgb_model.pkl\"\n",
    "#     path_in_repo=\"xgb_model.json\",     # File name in the repo\n",
    "#     repo_id=\"ScHemer34/DT_XGBoost\",\n",
    "#     repo_type=\"model\"\n",
    "# )\n"
   ]
  },
  {
   "cell_type": "code",
   "execution_count": 11,
   "id": "e1b2fe43",
   "metadata": {},
   "outputs": [
    {
     "name": "stdout",
     "output_type": "stream",
     "text": [
      "Test Accuracy: 0.994169835234474\n",
      "              precision    recall  f1-score   support\n",
      "\n",
      "      normal       0.97      0.99      0.98      2430\n",
      "      attack       1.00      1.00      1.00     13350\n",
      "\n",
      "    accuracy                           0.99     15780\n",
      "   macro avg       0.99      0.99      0.99     15780\n",
      "weighted avg       0.99      0.99      0.99     15780\n",
      "\n",
      "\n",
      "✅ Model trained in 2.67 seconds\n"
     ]
    }
   ],
   "source": [
    "y_pred = model.predict(X_test)\n",
    "\n",
    "print(\"Test Accuracy:\", accuracy_score(y_test, y_pred))\n",
    "print(classification_report(y_test, y_pred, target_names=['normal', 'attack']))\n",
    "\n",
    "# Print duration\n",
    "training_duration = end_time - start_time\n",
    "print(f\"\\n✅ Model trained in {training_duration:.2f} seconds\")"
   ]
  },
  {
   "cell_type": "markdown",
   "id": "9f024d20",
   "metadata": {},
   "source": [
    "# Feed Forward Neural Network"
   ]
  },
  {
   "cell_type": "code",
   "execution_count": null,
   "id": "b95d3d02",
   "metadata": {},
   "outputs": [],
   "source": []
  },
  {
   "cell_type": "code",
   "execution_count": null,
   "id": "414f0cd6",
   "metadata": {},
   "outputs": [],
   "source": []
  },
  {
   "cell_type": "code",
   "execution_count": null,
   "id": "fbcdc06a",
   "metadata": {},
   "outputs": [],
   "source": []
  },
  {
   "cell_type": "code",
   "execution_count": null,
   "id": "ed026957",
   "metadata": {},
   "outputs": [],
   "source": []
  },
  {
   "cell_type": "code",
   "execution_count": null,
   "id": "f4740230",
   "metadata": {},
   "outputs": [],
   "source": []
  },
  {
   "cell_type": "code",
   "execution_count": null,
   "id": "819c454f",
   "metadata": {},
   "outputs": [],
   "source": []
  },
  {
   "cell_type": "code",
   "execution_count": null,
   "id": "d18af48a",
   "metadata": {},
   "outputs": [],
   "source": []
  }
 ],
 "metadata": {
  "kernelspec": {
   "display_name": "Python 3 (ipykernel)",
   "language": "python",
   "name": "python3"
  },
  "language_info": {
   "codemirror_mode": {
    "name": "ipython",
    "version": 3
   },
   "file_extension": ".py",
   "mimetype": "text/x-python",
   "name": "python",
   "nbconvert_exporter": "python",
   "pygments_lexer": "ipython3",
   "version": "3.11.5"
  }
 },
 "nbformat": 4,
 "nbformat_minor": 5
}
